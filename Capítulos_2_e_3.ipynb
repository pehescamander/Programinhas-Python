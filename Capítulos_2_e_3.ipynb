{
  "nbformat": 4,
  "nbformat_minor": 0,
  "metadata": {
    "colab": {
      "provenance": [],
      "collapsed_sections": [],
      "mount_file_id": "1Yj0vCn77B7WWP5zQGv5aWcIyuHV28TMW",
      "authorship_tag": "ABX9TyMX9D9aydms3TtrZ7uvn9OZ",
      "include_colab_link": true
    },
    "kernelspec": {
      "name": "python3",
      "display_name": "Python 3"
    },
    "language_info": {
      "name": "python"
    }
  },
  "cells": [
    {
      "cell_type": "markdown",
      "metadata": {
        "id": "view-in-github",
        "colab_type": "text"
      },
      "source": [
        "<a href=\"https://colab.research.google.com/github/pehescamander/Programinhas-Python/blob/main/Cap%C3%ADtulos_2_e_3.ipynb\" target=\"_parent\"><img src=\"https://colab.research.google.com/assets/colab-badge.svg\" alt=\"Open In Colab\"/></a>"
      ]
    },
    {
      "cell_type": "markdown",
      "source": [
        "# Para Conhecer: Línguistica Computacional. Marcelo Ferreira e Marcos Lopes."
      ],
      "metadata": {
        "id": "DiiigaP-w-Tb"
      }
    },
    {
      "cell_type": "markdown",
      "source": [
        "# Capitulo 2"
      ],
      "metadata": {
        "id": "2axBWuynuMyV"
      }
    },
    {
      "cell_type": "markdown",
      "source": [
        "## Exercício 1 - Escreva uma função que:\n",
        "\n",
        "\n",
        "(a) Receba uma string e elimine dela os caracteres não-alfabéticos.    \n",
        "(b) Crie um dicionário que tenha como chaves as letras contidas na string e, como valores, as respectivas contagens de ocorrências das letras.    \n",
        "(c) Retorne uma lista ordenanda das letras em função de seu número de ocorrências.\n",
        "\n",
        "Dicas:\n",
        "\n",
        "* A maneira mais fácil de resolver este exercício é criar uma função que chame outras funções para as tarefas específicas.\n",
        "* Você pode usar a função limpar() para resolver a primeira parte do problema.\n",
        "* A função ocorrencias() pode ser utilizada para criar o dicionário e retornar a lista ordenada."
      ],
      "metadata": {
        "id": "_GtGl-vHmOtD"
      }
    },
    {
      "cell_type": "code",
      "execution_count": null,
      "metadata": {
        "id": "bht-WsxjXM12"
      },
      "outputs": [],
      "source": [
        "#letra a\n",
        "def limpar(lista):\n",
        "  lixo = '123456789.,:;?!\"`()[]{}\\/|-#$%^&*'\n",
        "  quase_limpo = [x.strip(lixo).lower() for x in lista]\n",
        "  return [x for x in quase_limpo if x.isalpha() or '-' in x]\n",
        "\n",
        "#letra b\n",
        "from collections import defaultdict\n",
        "def ocorrencias(lista_letras):\n",
        "  dicionario = defaultdict(int)\n",
        "  for i in lista_letras:\n",
        "    dicionario[i] += 1\n",
        "  return dicionario\n",
        "\n",
        "#letra c\n",
        "def listagem(ocr):\n",
        "  dic = ocorrencias(ocr)\n",
        "  mf = sorted(dic.items(), key=lambda tupla:tupla[1], reverse=True)\n",
        "  return mf\n",
        "\n",
        "#sempre rodar as funções antes dos demais códigos"
      ]
    },
    {
      "cell_type": "markdown",
      "source": [
        "## Exercício 2 - Teste a função com urna string pequena, como:\n",
        "`'Esta é uma string para testar a solução.' `"
      ],
      "metadata": {
        "id": "I-JNM3ceOET9"
      }
    },
    {
      "cell_type": "code",
      "source": [
        "string = \"\"\"Em 2021, 28 milhões de pessoas no Brasil não usaram a internet, diz IBGE\n",
        "Segundo a Pnad Contínua, o motivo mais citado pelas pessoas que não acessaram a internet foi não saber usar a tecnologia. Falta de interesse e preço alto do serviço também estão entre as respostas mais comuns.\"\"\"\n",
        "\n",
        "limpa = limpar(string)\n",
        "print('String: ' + string)\n",
        "print('\\nLETRA A, String limpa e separada por letras:\\n')\n",
        "print(limpa)\n",
        "\n",
        "print('\\nLETRA B, Dicionário de Ocorrências:\\n')\n",
        "dic = ocorrencias(limpa)\n",
        "print(dic)\n",
        "\n",
        "print('\\nLETRA C, Listagem das letras:\\n')\n",
        "print(listagem(dic))"
      ],
      "metadata": {
        "colab": {
          "base_uri": "https://localhost:8080/"
        },
        "id": "bM6P2mnkOYHD",
        "outputId": "b20644a2-0291-4a4d-fc0a-9525161efb75"
      },
      "execution_count": null,
      "outputs": [
        {
          "output_type": "stream",
          "name": "stdout",
          "text": [
            "String: Em 2021, 28 milhões de pessoas no Brasil não usaram a internet, diz IBGE\n",
            "Segundo a Pnad Contínua, o motivo mais citado pelas pessoas que não acessaram a internet foi não saber usar a tecnologia. Falta de interesse e preço alto do serviço também estão entre as respostas mais comuns.\n",
            "\n",
            "LETRA A, String limpa e separada por letras:\n",
            "\n",
            "['e', 'm', 'm', 'i', 'l', 'h', 'õ', 'e', 's', 'd', 'e', 'p', 'e', 's', 's', 'o', 'a', 's', 'n', 'o', 'b', 'r', 'a', 's', 'i', 'l', 'n', 'ã', 'o', 'u', 's', 'a', 'r', 'a', 'm', 'a', 'i', 'n', 't', 'e', 'r', 'n', 'e', 't', 'd', 'i', 'z', 'i', 'b', 'g', 'e', 's', 'e', 'g', 'u', 'n', 'd', 'o', 'a', 'p', 'n', 'a', 'd', 'c', 'o', 'n', 't', 'í', 'n', 'u', 'a', 'o', 'm', 'o', 't', 'i', 'v', 'o', 'm', 'a', 'i', 's', 'c', 'i', 't', 'a', 'd', 'o', 'p', 'e', 'l', 'a', 's', 'p', 'e', 's', 's', 'o', 'a', 's', 'q', 'u', 'e', 'n', 'ã', 'o', 'a', 'c', 'e', 's', 's', 'a', 'r', 'a', 'm', 'a', 'i', 'n', 't', 'e', 'r', 'n', 'e', 't', 'f', 'o', 'i', 'n', 'ã', 'o', 's', 'a', 'b', 'e', 'r', 'u', 's', 'a', 'r', 'a', 't', 'e', 'c', 'n', 'o', 'l', 'o', 'g', 'i', 'a', 'f', 'a', 'l', 't', 'a', 'd', 'e', 'i', 'n', 't', 'e', 'r', 'e', 's', 's', 'e', 'e', 'p', 'r', 'e', 'ç', 'o', 'a', 'l', 't', 'o', 'd', 'o', 's', 'e', 'r', 'v', 'i', 'ç', 'o', 't', 'a', 'm', 'b', 'é', 'm', 'e', 's', 't', 'ã', 'o', 'e', 'n', 't', 'r', 'e', 'a', 's', 'r', 'e', 's', 'p', 'o', 's', 't', 'a', 's', 'm', 'a', 'i', 's', 'c', 'o', 'm', 'u', 'n', 's']\n",
            "\n",
            "LETRA B, Dicionário de Ocorrências:\n",
            "\n",
            "defaultdict(<class 'int'>, {'e': 27, 'm': 10, 'i': 14, 'l': 6, 'h': 1, 'õ': 1, 's': 26, 'd': 7, 'p': 6, 'o': 22, 'a': 27, 'n': 16, 'b': 4, 'r': 12, 'ã': 4, 'u': 6, 't': 15, 'z': 1, 'g': 3, 'c': 5, 'í': 1, 'v': 2, 'q': 1, 'f': 2, 'ç': 2, 'é': 1})\n",
            "\n",
            "LETRA C, Listagem das letras:\n",
            "\n",
            "[('e', 1), ('m', 1), ('i', 1), ('l', 1), ('h', 1), ('õ', 1), ('s', 1), ('d', 1), ('p', 1), ('o', 1), ('a', 1), ('n', 1), ('b', 1), ('r', 1), ('ã', 1), ('u', 1), ('t', 1), ('z', 1), ('g', 1), ('c', 1), ('í', 1), ('v', 1), ('q', 1), ('f', 1), ('ç', 1), ('é', 1)]\n"
          ]
        }
      ]
    },
    {
      "cell_type": "markdown",
      "source": [
        "## Exercício 3 - Em seguida, aplique a mesma função em dois ou mais livros inteiros. \n",
        "\n",
        "Sugerimos usar arquivos TXT, como aqueles disponíveis através do Projeto [Gutenberg](https://gutenberg.org). Apresente e compare os resultados das contagens de ocorrências das letras geradas. Há diferenças nas letras mais frequentes entre as obras?"
      ],
      "metadata": {
        "id": "0FU4rFEq8aaJ"
      }
    },
    {
      "cell_type": "code",
      "source": [
        "try:\n",
        "  arq1 = open('/content/drive/MyDrive/Estudos do livro (Para conhecer Linguística Computacional)/Projeto Gutenberg/Papeis Avulsos - Machado de Assis.txt', 'r')\n",
        "  txt1 = arq1.read()\n",
        "\n",
        "  arq2  = open('/content/drive/MyDrive/Estudos do livro (Para conhecer Linguística Computacional)/Projeto Gutenberg/Os Trabalhadores do Mar.txt', 'r')\n",
        "  txt2 = arq2.read()\n",
        "\n",
        "except:\n",
        "  from google.colab import drive \n",
        "  drive.mount('/content/drive')"
      ],
      "metadata": {
        "id": "0lLveh4atXBu"
      },
      "execution_count": null,
      "outputs": []
    },
    {
      "cell_type": "code",
      "source": [
        "print('\\nContagem de letras em Papeis Avulsos:\\n')\n",
        "limpo1 = limpar(txt1)\n",
        "dic1 = ocorrencias(limpo1)\n",
        "mf1 = sorted(dic1.items(), key=lambda tupla:tupla[1], reverse=True)[:len(txt1)]\n",
        "print(mf1)\n",
        "\n",
        "print('\\nContagem de letras em Trabalhadores do Mar:\\n')\n",
        "limpo2 = limpar(txt2)\n",
        "dic2 = ocorrencias(limpo2)\n",
        "mf2 = sorted(dic2.items(), key=lambda tupla:tupla[1], reverse=True)[:len(txt2)]\n",
        "print(mf2)"
      ],
      "metadata": {
        "id": "gxN6A2QErRZa",
        "colab": {
          "base_uri": "https://localhost:8080/"
        },
        "outputId": "77a9a233-186a-41d9-9cd0-967d0f394780"
      },
      "execution_count": null,
      "outputs": [
        {
          "output_type": "stream",
          "name": "stdout",
          "text": [
            "\n",
            "Contagem de letras em Papeis Avulsos:\n",
            "\n",
            "[('a', 34072), ('e', 33279), ('o', 28180), ('s', 20192), ('r', 17324), ('i', 16893), ('d', 13421), ('n', 13283), ('t', 12972), ('m', 12347), ('u', 12283), ('c', 9716), ('l', 8832), ('p', 6831), ('v', 4246), ('h', 4108), ('g', 3344), ('q', 2859), ('f', 2827), ('b', 2754), ('ã', 2330), ('z', 1152), ('ç', 1030), ('á', 774), ('j', 753), ('é', 731), ('x', 691), ('y', 608), ('w', 299), ('ó', 248), ('õ', 168), ('k', 154), ('ô', 91), ('ê', 48), ('ú', 16), ('í', 4), ('œ', 4), ('ò', 1), ('è', 1)]\n",
            "\n",
            "Contagem de letras em Trabalhadores do Mar:\n",
            "\n",
            "[('a', 78510), ('e', 69128), ('o', 56810), ('s', 43097), ('r', 37802), ('i', 32703), ('n', 28188), ('d', 27591), ('t', 27367), ('m', 25002), ('u', 24244), ('l', 19577), ('c', 19340), ('p', 15018), ('v', 10878), ('h', 9887), ('g', 7825), ('b', 6333), ('q', 5789), ('f', 5709), ('ã', 3510), ('z', 2532), ('ç', 2441), ('é', 1879), ('x', 1454), ('á', 1444), ('j', 1273), ('y', 1204), ('ó', 411), ('õ', 356), ('w', 343), ('ô', 246), ('k', 224), ('ê', 179), ('ú', 39), ('à', 11), ('è', 7), ('â', 3), ('œ', 2), ('ë', 2)]\n"
          ]
        }
      ]
    },
    {
      "cell_type": "markdown",
      "source": [
        "**Resposta a pergunta:**\n",
        "Há diferenças nas letras mais frequentes entre as obras?\n",
        "\n",
        "Nas duas obras temos as 5 letras mais frequentes sendo A, E, O, S e R. Com a comparação podemos perceber que a maioria são vogais e as consoantes S e R. Possívelmente palavras com dois ESSES e dois ERRES colaboram para isso com os livros sendo em português."
      ],
      "metadata": {
        "id": "HQwhB2gwE5PZ"
      }
    },
    {
      "cell_type": "markdown",
      "source": [
        "##Exercício 4 - Baixe dois livros de línguas diferentes entre si no site do Projeto [Gutenberg](https://gutenberg.org).\n",
        "\n",
        "Aplique nos textos sua função de identificação e contagem das letras e, apresente suas fontes e seus resultados. Baseado nos resultados, responda:"
      ],
      "metadata": {
        "id": "gygVLO_qL4gK"
      }
    },
    {
      "cell_type": "code",
      "source": [
        "try:\n",
        "  arq3 = open('/content/drive/MyDrive/Estudos do livro (Para conhecer Linguística Computacional)/Projeto Gutenberg/A Mao e A Luva - Machado.txt', 'r')\n",
        "  texto3 = arq3.read()\n",
        "\n",
        "  arq4  = open('/content/drive/MyDrive/Estudos do livro (Para conhecer Linguística Computacional)/Projeto Gutenberg/Contes des fées Robert de Bonnières.txt', 'r')\n",
        "  texto4 = arq4.read()\n",
        "\n",
        "  print('\\nA Mao e A Luva by Machado de Assis\\n')\n",
        "  limpo3 = limpar(texto3)\n",
        "  dic3 = ocorrencias(limpo3)\n",
        "  mf3 = sorted(dic3.items(), key=lambda tupla:tupla[1], reverse=True)[:len(texto3)]\n",
        "  print(mf3)\n",
        "\n",
        "  print('\\nContes des fées by Robert de Bonnières:\\n')\n",
        "  limpo4 = limpar(texto4)\n",
        "  dic4 = ocorrencias(limpo4)\n",
        "  mf4 = sorted(dic4.items(), key=lambda tupla:tupla[1], reverse=True)[:len(texto4)]\n",
        "  print(mf4)\n",
        "except:\n",
        "  from google.colab import drive \n",
        "  drive.mount('/content/drive')"
      ],
      "metadata": {
        "id": "uS_-8oUAL7G4",
        "colab": {
          "base_uri": "https://localhost:8080/"
        },
        "outputId": "baa5796c-8c1e-4f46-eef6-644ff211f49a"
      },
      "execution_count": null,
      "outputs": [
        {
          "output_type": "stream",
          "name": "stdout",
          "text": [
            "\n",
            "A Mao e A Luva by Machado de Assis\n",
            "\n",
            "[('a', 22596), ('e', 22580), ('o', 17751), ('s', 12614), ('r', 11440), ('i', 10342), ('u', 8476), ('n', 8458), ('t', 8129), ('m', 7985), ('d', 7881), ('l', 6714), ('c', 5392), ('p', 4408), ('v', 2953), ('h', 2909), ('g', 2389), ('q', 2149), ('f', 2032), ('ã', 1707), ('b', 1675), ('z', 1170), ('ç', 917), ('j', 512), ('á', 421), ('é', 394), ('x', 393), ('w', 391), ('y', 385), ('k', 146), ('ó', 119), ('õ', 111), ('ê', 53), ('í', 44), ('ô', 44), ('ú', 6), ('è', 2), ('à', 2), ('â', 1)]\n",
            "\n",
            "Contes des fées by Robert de Bonnières:\n",
            "\n",
            "[('e', 7771), ('t', 4313), ('a', 3898), ('n', 3841), ('i', 3670), ('s', 3605), ('o', 3579), ('r', 3574), ('u', 3059), ('l', 2594), ('d', 1696), ('c', 1678), ('m', 1628), ('p', 1312), ('f', 892), ('h', 888), ('g', 807), ('b', 798), ('v', 733), ('é', 537), ('q', 476), ('y', 435), ('j', 323), ('w', 296), ('x', 274), ('k', 146), ('à', 124), ('è', 104), ('ê', 83), ('z', 72), ('â', 37), ('ù', 24), ('û', 23), ('ç', 22), ('î', 18), ('ô', 13), ('ï', 4)]\n"
          ]
        }
      ]
    },
    {
      "cell_type": "markdown",
      "source": [
        "**(a) Quais são os alfabetos (ou seja, o conjunto das letras) usados para escrever nessas duas línguas?**\n",
        "\n",
        "**R:** Os dois ultilizam alfabeto latino.\n",
        "\n",
        "**(b) Quais as letras presentes em um alfabeto e não no outro?**\n",
        "\n",
        "**R:** Uso do trema no francês que não ocorrere no português\n",
        "\n",
        "**(c) Quais são as letras mais frequentes em cada uma dessas línguas?**\n",
        "\n",
        "**R:** Português: A, E, O, S, R. Francês: E, T, A, N, I.\n",
        "\n",
        "**(d) Quais as letras menos frequentes? Se houve hápax legômena, o que eles significam nesses contextos dos alfabetos?**\n",
        "\n",
        "**R:** Português: Ô, Ú, È, À, Â. Francês: Û, Ç, Î, Ô, Ï. Houve Hapax no portugês na letra Â, que é uma acentuação que existe no português para identificar a silaba tonica, mas nem todas as palavras usam e muitos já foram retiradas no acordo ortografico."
      ],
      "metadata": {
        "id": "uKH-pCOydLo2"
      }
    },
    {
      "cell_type": "markdown",
      "source": [
        "#### Para os exercícios que vêm a seguir, usaremos o romance Memórias Póstumas de Brás Cubas. \n",
        "No corpus Machado, ele aparece identificado como romance/marm05.txt. Abra o arquivo com o método raw() do NLTK, que retorna uma string com todo o conteúdo da obra:\n",
        "\n",
        "`texto = machado.raw('romance/marm05.txt')`"
      ],
      "metadata": {
        "id": "2dirsoLPqP-Q"
      }
    },
    {
      "cell_type": "markdown",
      "source": [
        "A partir daí faça os seguintes procedimentos indicados e responda às perguntas subsequentes.\n",
        "1. Conte o número de caracteres do texto\n",
        "2. Limpe o corpus\n",
        "3. Conte as palavras do texto\n",
        "4. Calcule a riqueza lexical do texto"
      ],
      "metadata": {
        "id": "h3JPf3UMqWDT"
      }
    },
    {
      "cell_type": "code",
      "source": [
        "try:\n",
        "  import nltk\n",
        "  from nltk.corpus import machado\n",
        "\n",
        "  machado = machado.raw('romance/marm05.txt')\n",
        "\n",
        "  print('\\n1. Conte o número de caracteres do texto:')\n",
        "  print(len(machado))\n",
        "\n",
        "  print('\\n2. Limpe o corpus:')\n",
        "  def limpar_plv(texto):\n",
        "    import re\n",
        "    texto = re.split('\\s', texto)\n",
        "    lixo = '123456789.,:;?!\"`()[]{}\\/|-#$%^&*'\n",
        "    quase_limpo = [x.strip(lixo).lower() for x in texto]\n",
        "    return [x for x in quase_limpo if x.isalpha() or '-' in x]\n",
        "  machado_plv = limpar_plv(machado)\n",
        "  print(machado_plv[:20])\n",
        "\n",
        "  print('\\n3. Conte as palavras do texto:')\n",
        "  print(len(machado_plv))\n",
        "\n",
        "  print('\\n4. Calcule a riqueza lexical do texto:\\n')\n",
        "  machado_vocab = set(machado_plv)\n",
        "  machado_riqueza = len(machado_vocab) / len(machado_plv)\n",
        "  print(machado_riqueza)\n",
        "except:\n",
        "  nltk.download('machado')"
      ],
      "metadata": {
        "colab": {
          "base_uri": "https://localhost:8080/"
        },
        "id": "8EQP0B43gF-M",
        "outputId": "b47761c4-56e2-4a99-cb1e-518bff4ddfde"
      },
      "execution_count": 2,
      "outputs": [
        {
          "output_type": "stream",
          "name": "stdout",
          "text": [
            "\n",
            "1. Conte o número de caracteres do texto:\n",
            "355706\n",
            "\n",
            "2. Limpe o corpus:\n",
            "['romance', 'memórias', 'póstumas', 'de', 'brás', 'cubas', 'memórias', 'póstumas', 'de', 'brás', 'cubas', 'texto-fonte', 'obra', 'completa', 'machado', 'de', 'assis', 'rio', 'de', 'janeiro']\n",
            "\n",
            "3. Conte as palavras do texto:\n",
            "60172\n",
            "\n",
            "4. Calcule a riqueza lexical do texto:\n",
            "\n",
            "0.1732034833477365\n"
          ]
        }
      ]
    },
    {
      "cell_type": "markdown",
      "source": [
        "5. Divida as palavras do texto em função de seu número de ocorrências\n",
        "e responda:\n",
        "* As vinte palavras mais frequentes do romance Memórias Póstumas são semelhantes às palavras mais frequentes de Ubirajara?\n",
        "* O que isso representa em termos linguístico-discursivos, isto é,\n",
        "quanto ao uso concreto da língua? "
      ],
      "metadata": {
        "id": "XQrMWwM1o-7h"
      }
    },
    {
      "cell_type": "code",
      "source": [
        "try:\n",
        "  print('\\nMemórias Póstumas de Brás Cubas - Machado:\\n')\n",
        "\n",
        "  dic_machado = ocorrencias(machado_plv)\n",
        "  ocr_machado = sorted(dic_machado.items(), key=lambda tupla:tupla[1], reverse=True)\n",
        "  print(ocr_machado[:20])\n",
        "\n",
        "  print('\\nUbirajara:\\n')\n",
        "\n",
        "  arq_ubirajara  = open('/content/drive/MyDrive/Estudos do livro (Para conhecer Linguística Computacional)/ubirajara_limpo.txt', 'r')\n",
        "  ubirajara = arq_ubirajara.read()\n",
        "\n",
        "  ubirajara_plv = limpar_plv(ubirajara)\n",
        "  dic_ubirajara = ocorrencias(ubirajara_plv)\n",
        "  ocr_ubirajara = sorted(dic_ubirajara.items(), key=lambda tupla:tupla[1], reverse=True)\n",
        "  print(ocr_ubirajara[:20])\n",
        "  \n",
        "except:\n",
        "  from google.colab import drive \n",
        "  drive.mount('/content/drive')"
      ],
      "metadata": {
        "colab": {
          "base_uri": "https://localhost:8080/"
        },
        "id": "mdLs30Ehtaa1",
        "outputId": "e9d50fa6-9d47-4cf2-c80e-66f87d6900cd"
      },
      "execution_count": null,
      "outputs": [
        {
          "output_type": "stream",
          "name": "stdout",
          "text": [
            "\n",
            "Memórias Póstumas de Brás Cubas - Machado:\n",
            "\n",
            "[('a', 2488), ('que', 2202), ('de', 2117), ('e', 1949), ('o', 1710), ('não', 1162), ('um', 988), ('do', 688), ('uma', 663), ('da', 650), ('com', 581), ('era', 511), ('é', 508), ('os', 486), ('eu', 476), ('se', 456), ('as', 419), ('mas', 414), ('ao', 383), ('me', 373)]\n",
            "\n",
            "Ubirajara:\n",
            "\n",
            "[('o', 1093), ('a', 1060), ('de', 796), ('que', 715), ('e', 587), ('do', 482), ('da', 434), ('os', 322), ('para', 264), ('dos', 234), ('guerreiro', 225), ('não', 213), ('se', 180), ('como', 179), ('seu', 179), ('as', 169), ('ubirajara', 169), ('chefe', 165), ('sua', 162), ('guerreiros', 160)]\n"
          ]
        }
      ]
    },
    {
      "cell_type": "markdown",
      "source": [
        "**O que isso representa em termos linguístico-discursivos, isto é,\n",
        "quanto ao uso concreto da língua?**\n",
        "\n",
        "**R:** O discurso da lingua portuguêsa é carregado de artigos, pronomes e conjunções como 'que', 'de' que são possíveis notar nos dois livros."
      ],
      "metadata": {
        "id": "6vc5jjev3qSe"
      }
    },
    {
      "cell_type": "markdown",
      "source": [
        "6. Retire da lista de palavras frequentes as palavras vazias. Compare\n",
        "novamente os resultados entre os dois textos. "
      ],
      "metadata": {
        "id": "yJZIJtHS3lPD"
      }
    },
    {
      "cell_type": "code",
      "source": [
        "try:\n",
        "  import nltk\n",
        "\n",
        "  vazias = nltk.corpus.stopwords.words('portuguese')\n",
        "  print('\\nUbirajara sem stopwords:\\n')\n",
        "  ubirajara_plenas = [x for x in ocr_ubirajara if x[0].lower() not in vazias]\n",
        "  print(ubirajara_plenas[:20])\n",
        "\n",
        "  print('\\nMachado sem stopwords:\\n')\n",
        "  machado_plenas = [x for x in ocr_machado if x[0].lower() not in vazias]\n",
        "  print(machado_plenas[:20])\n",
        "except:\n",
        "  nltk.download('stopwords')"
      ],
      "metadata": {
        "colab": {
          "base_uri": "https://localhost:8080/"
        },
        "id": "ax_gkS5D3mQJ",
        "outputId": "1e7d2fb1-ad07-44b8-c067-780348bcc206"
      },
      "execution_count": null,
      "outputs": [
        {
          "output_type": "stream",
          "name": "stdout",
          "text": [
            "\n",
            "Ubirajara sem stopwords:\n",
            "\n",
            "[('guerreiro', 225), ('ubirajara', 169), ('chefe', 165), ('guerreiros', 160), ('elle', 145), ('grande', 143), ('á', 127), ('nação', 121), ('itaquê', 115), ('arací', 97), ('virjem', 85), ('pojucan', 82), ('cabana', 79), ('jurandir', 79), ('espoza', 78), ('arco', 73), ('ella', 73), ('tocantim', 68), ('taba', 66), ('jaguarê', 63)]\n",
            "\n",
            "Machado sem stopwords:\n",
            "\n",
            "[('capítulo', 209), ('virgília', 202), ('coisa', 147), ('olhos', 138), ('disse', 130), ('nada', 126), ('outro', 124), ('vida', 118), ('outra', 116), ('tempo', 114), ('porque', 113), ('menos', 112), ('homem', 108), ('casa', 107), ('tudo', 99), ('mim', 99), ('pouco', 98), ('então', 96), ('tão', 95), ('ainda', 91)]\n"
          ]
        }
      ]
    },
    {
      "cell_type": "markdown",
      "source": [
        "**R:** No texto do machado podemos notar que há palavras que não fazem parte do texto (como 'capítulo'). Agora sem as 'stopwords' podemos analizar somente o que são palavras de fato e não artigos e conjunções."
      ],
      "metadata": {
        "id": "LTFKQGRPCt-p"
      }
    },
    {
      "cell_type": "markdown",
      "source": [
        "7. Crie uma lista com os hápax legômena do texto de Machado de Assis\n",
        "e responda:\n",
        "* Comparando a extensão dessa lista com aquela dos hápax legômena de Ubirajara, o que se pode inferir?"
      ],
      "metadata": {
        "id": "GQqNO41S5n2C"
      }
    },
    {
      "cell_type": "code",
      "source": [
        "hapax_ubirajara = [x for x in ubirajara_plv if ubirajara_plv.count(x) == 1]\n",
        "print('Os hapax do Ubirajara são:\\n ')\n",
        "print(hapax_ubirajara)\n",
        "hapax_machado = [x for x in machado_plv if machado_plv.count(x) == 1]\n",
        "print('\\nOs hapax do Machado são:\\n ')\n",
        "print(hapax_machado)"
      ],
      "metadata": {
        "colab": {
          "base_uri": "https://localhost:8080/"
        },
        "id": "EXYKy3155sNN",
        "outputId": "3573f284-e79f-41cd-c872-060986e15c68"
      },
      "execution_count": null,
      "outputs": [
        {
          "output_type": "stream",
          "name": "stdout",
          "text": [
            "Os hapax do Ubirajara são:\n",
            " \n",
            "['pende-lhe', 'esquecido', 'inutil', 'coldre', 'saltam', 'moitas', 'ubaia', 'retouçar', 'zombando', 'timido', 'campeiro', 'rezistir-lhe', 'cançou', 'chama-se', 'presentem', 'procura', 'troca', 'conquiste', 'campinas', 'deitou-se', 'aratuba', 'mostrar-lhe', 'decendo', 'cae', 'roxa', 'rija', 'ferro', 'fabricou', 'volvendo', 'torvo', 'iracundo', 'bramido', 'cavernas', 'ronco', 'madre', 'urro', 'escondido', 'furna', 'acudiu', 'cravar-se', 'ramalhou', 'gemeu', 'repouza', 'salta', 'embebida', 'flexivel', 'voou', 'sofrego', 'tardava', 'avistando', 'apagou-se', 'tecida', 'pizava', 'esbelta', 'possuira', 'atravessada', 'certeira', 'taari', 'dado', 'noticia', 'vejo', 'pizas', 'vens', 'chore', 'proteja', 'prizioneira', 'timida', 'der', 'servirá', 'apague', 'vencera', 'poderia', 'obedeceu-lhe', 'pregando', 'flutuava', 'assustes', 'melhores', 'servem', 'excede', 'romperás', 'encha', 'dezafia', 'guardará', 'seguiram', 'guachimim', 'rasteja', 'zabelê', 'recostou-se', 'franja', 'mesmas', 'avistou', 'quebra', 'brandido', 'disparado', 'disparando', 'dizer', 'aceitava', 'pararam', 'aclamou', 'prepara-te', 'fraco', 'manche', 'caraiba', 'compadece', 'comtigo', 'lembrarão', 'invejarão', 'sorte', 'agradece', 'torne', 'recuaram', 'acharam', 'arremessaram', 'toparam', 'rodaram', 'torrentes', 'impetuozas', 'itaoca', 'clavas', 'volveram', 'bater', 'animais', 'passavam', 'ribombasse', 'encontraram-se', 'lascas', 'viste', 'fosses', 'esmagaria', 'seguiria', 'gosta', 'estrangular', 'morrerás', 'estreitou', 'rins', 'lombos', 'bastantes', 'jatobás', 'naceram', 'juntos', 'entrelaçaram', 'ligando-se', 'bramindo', 'ajital-os', 'permanecem', 'quedos', 'volver', 'orla', 'lutadores', 'esconjurou-os', 'almas', 'desdobrava', 'fóra', 'despedia-se', 'cimos', 'movessem', 'afrouxaram', 'lutador', 'fadiga', 'lutar', 'inteira', 'prostrasse', 'valentia', 'haja', 'rezista', 'morras', 'alumia', 'deixou-te', 'eras', 'existiram', 'arrancando', 'vês', 'fabricou-a', 'rijo', 'galho', 'endurecido', 'receberes', 'repeliu', 'aprezentára', 'atacará', 'tens', 'confiança', 'prostrar', 'cega', 'inventou', 'arpão', 'aperta-a', 'manejal-a', 'cruzou', 'covarde', 'matará', 'pozição', 'cessaram', 'convenceram', 'derrubaria', 'finca', 'caminhemos', 'dispararam', 'arremessado', 'desfilada', 'desdenhozamente', 'imolar', 'descuidado', 'houvera', 'nhengaíba', 'concederá', 'cantes', 'cantar', 'servirás', 'ajudar', 'varrer', 'avante', 'desfechou', 'rodára', 'farpada', 'tombava', 'dardo', 'esquerdo', 'sangrenta', 'reconhece', 'proclama', 'existiu', 'aumentar', 'deixes', 'sofra', 'acompanharás', 'narrar', 'certo', 'traiçoeira', 'vencerá', 'afrontar', 'retumba', 'fogueiras', 'circulam', 'derramam', 'escura', 'chamando', 'decide', 'contemplam', 'taciturnos', 'ensinaram', 'saudades', 'passada', 'conserva', 'ouza', 'disputal-a', 'eil-o', 'embaixo', 'arrimado', 'colocados', 'materna', 'serem', 'admitidos', 'juventude', 'demanda', 'invejam', 'hontem', 'disputando', 'detraz', 'apinham-se', 'patrio', 'admitidas', 'silenciozas', 'ouvem', 'ouzam', 'murmurar', 'cansam', 'admirar', 'futuro', 'tarda', 'aclamar', 'servil-o', 'defronte', 'serena', 'troou', 'ordenar', 'historia', 'sofreu', 'despedia', 'atravessará', 'marcou', 'enviou', 'tribu', 'vêde', 'pelejei', 'conheço', 'brotou', 'gigante', 'despedaçal-o', 'vergue', 'penedos', 'áquelle', 'encontrado', 'vos', 'contempla', 'alguem', 'duvida', 'chame-o', 'ameaçador', 'ouzou', 'escutaram', 'vosso', 'rezistisse', 'emprestou', 'senti', 'corajem', 'dizer-vos', 'poderozo', 'alguma', 'vagando', 'fecundo', 'corisco', 'tempestade', 'calou-se', 'decer', 'combateram', 'nacendo', 'vencidos', 'ganhou', 'escapou-lhe', 'investiu', 'cravou', 'ribombou', 'derramando', 'vales', 'écos', 'vibrados', 'largos', 'retinindo', 'imenso', 'clamando', 'recebem', 'aclamam', 'celebrarão', 'chamar-se', 'parou', 'cessou', 'alcançou', 'trançada', 'dedo', 'possantes', 'custo', 'empunhavam', 'empunhares', 'estar', 'apezar', 'mirrou', 'ouzaria', 'sofresse', 'castigo', 'curve', 'dezabar', 'carcomido', 'eleve', 'altaneira', 'revive', 'crece', 'aprezentava', 'bastava', 'pujança', 'arremessando', 'empunhar', 'nenhuma', 'proclamou', 'zuniu', 'exaltaram', 'trocára', 'bordão', 'consolo', 'repetido', 'louvado', 'celebraram', 'remotos', 'projenitores', 'tamoios', 'vazos', 'taças', 'companheiras', 'aparecer', 'espumante', 'guincho', 'agoureiro', 'inhúma', 'resoava', 'durou', 'saudou', 'nacer', 'acordou', 'viuvinha', 'embalára', 'castos', 'acreditava', 'dormido', 'paterna', 'trocar', 'pertence-lhe', 'destine', 'pertença', 'possam', 'aceitaria', 'alumie', 'buscal-a', 'despedirá', 'irá', 'contente', 'purifica', 'unje', 'oleo', 'espumá', 'ferve', 'tornando', 'perfumou', 'beijoim', 'larga', 'entrelaçados', 'arrumou', 'urú', 'louça', 'serviço', 'transportar', 'preparativos', 'encostou-se', 'chamavam', 'subido', 'derramava', 'afagára', 'esquecera', 'vaga', 'encontram', 'dormia', 'dormes', 'descansado', 'roubar', 'amores', 'ergue-te', 'erguera-se', 'seguil-a', 'acordára', 'listrava', 'arrolhou', 'docemente', 'esperando', 'vizitára', 'fujira', 'raiou', 'buscou', 'espesso', 'propicia', 'guiava', 'bandas', 'ficar', 'coqueiros', 'praia', 'inclinam', 'nacente', 'procurava', 'achára', 'seguira', 'máu', 'aflige', 'afaste', 'esqueça', 'dizer-te', 'amarga', 'fel', 'derramará', 'soluçou', 'retirava-se', 'rizo', 'amam', 'murcha', 'desprezes', 'escolheste', 'gostavas', 'arrastam', 'entrançará', 'pareçam', 'bonitos', 'falavam', 'cercará', 'listra', 'provaste', 'encherá', 'bebas', 'mudos', 'abriram', 'dignos', 'nestes', 'pertencem', 'nutrirá', 'querias', 'servirão', 'unicamente', 'abraçarem', 'servirem', 'cuidará', 'aprontará', 'saborozas', 'iguarias', 'ventura', 'fiel', 'restituir-lhe', 'pensativo', 'convém', 'cobre-se', 'parece', 'recolher-se', 'sára', 'berço', 'sente', 'anhanga', 'revez', 'suporta', 'prostrados', 'aresqui', 'terriveis', 'grandeza', 'consola', 'resta-lhe', 'rezistido', 'haver', 'concedesse', 'sacrificio', 'temor', 'recuze', 'retenha', 'acabrunha', 'pizára', 'reduzido', 'condição', 'obediencia', 'reconhecer', 'dono', 'afrontava', 'deus', 'irado', 'rujia', 'curvar-se', 'estremecia', 'lembrava', 'condenado', 'humilhação', 'promovia', 'atava-lhe', 'conquista', 'prendia', 'violasse', 'desprezo', 'acompanharia', 'nativos', 'irmãos', 'abriria', 'fujitivo', 'dezhonrado', 'guardado', 'cercasse', 'esquecel-o', 'arrancará', 'necessidade', 'durar', 'prostre', 'entregue', 'dorme', 'encaminha', 'segue-o', 'descobrindo', 'encerrou', 'altivez', 'regozijasse', 'ter-lhe', 'abatido', 'animo', 'inflexivel', 'aproximou', 'tomou-lhe', 'confessaste', 'cruzaste', 'mostrou-se', 'repete', 'concede', 'recuzaram', 'nega', 'esperas', 'obedeça', 'aviltas', 'venceste', 'humilhas', 'exaltava', 'interromper', 'gravidade', 'recuza', 'bravo', 'negaria', 'fechasse', 'sustentar', 'levou', 'mando', 'ambito', 'apareceram', 'chamassem', 'receberam', 'creou', 'destinam', 'conserve', 'observam', 'travando', 'recebe-a', 'espavorida', 'reteve', 'voltará', 'vibrar-te', 'rezervou', 'sentirás', 'havel-o', 'cala-se', 'curva-se', 'aceital-a', 'repouzam', 'morreram', 'regozijaria', 'nacem', 'faltarão', 'dezejem', 'conhecesse', 'ritos', 'punem', 'sujeita', 'abandono', 'esconde-te', 'arrependa', 'perdôe', 'terna', 'afastou-se', 'fabricava', 'cêra', 'enchel-os', 'arrancaram-me', 'colhendo', 'pó', 'secou', 'doçura', 'patativa', 'pôr', 'recolhe', 'paina', 'guardei', 'trocaria', 'infundisse', 'pavor', 'seios', 'botões', 'cardo', 'lijeiras', 'tecem', 'viçozo', 'brancas', 'ferir', 'chegam', 'estavam', 'reunidos', 'bateu', 'concedeu-lhe', 'inclinaram', 'encanecida', 'exprimirem', 'aprovação', 'escolher', 'ultimos', 'marabá', 'dezejavam', 'destinou-lhe', 'gira', 'aprovaram', 'acrecentou', 'desmentirá', 'pauzada', 'celebrai', 'ceremonia', 'auzencia', 'nuncia', 'conduzi', 'soltai', 'comvosco', 'inclinada', 'melhor', 'guardavam', 'memoria', 'repetiu', 'pauzado', 'recomendações', 'disseste', 'guardaram', 'espirito', 'observou', 'retiraram', 'lentamente', 'sombras', 'descansa', 'emudece', 'viventes', 'abrigam', 'vijia', 'quebrando', 'senha', 'caissara', 'atirou', 'acudido', 'inquirir', 'trouxera', 'herdado', 'aonde', 'dirijiu-se', 'ficava', 'barro', 'colocada', 'subira', 'grimpa', 'alto', 'habitava', 'trabalhavam', 'transpôz', 'limiar', 'levantando', 'acudiram', 'conduziram', 'horas', 'abrigar', 'repouzando', 'consumado', 'batalhas', 'honrava', 'fadigas', 'dando', 'exemplo', 'familia', 'colocadas', 'filas', 'erguidas', 'urdiam', 'passados', 'abertos', 'pente', 'manejava', 'vibrava', 'tramava', 'teia', 'entretecia', 'galo', 'rematado', 'urdidura', 'tuxava', 'troquem', 'corriam', 'avizando', 'revestidos', 'encaminharam', 'principal', 'afim', 'dirijiu', 'deu-lhe', 'saudação', 'ensinam', 'heróes', 'costumes', 'desconhecidas', 'viajens', 'plantar', 'mandioca', 'viajem', 'ensina', 'segredos', 'deixam', 'abrigado', 'vergam', 'cabe', 'fecha', 'murchar', 'redor', 'plantou', 'saudam', 'resôa', 'ajudal-a', 'preparar', 'pressurosas', 'esteiras', 'entrançadas', 'airis', 'colocaram', 'urús', 'camocins', 'razos', 'apinhavam', 'moquecas', 'envoltas', 'peças', 'fumegava', 'pratos', 'concha', 'suspenderam', 'volumoza', 'antas', 'igaçabas', 'inclinados', 'frutas', 'varias', 'especies', 'pencas', 'rôxos', 'rubros', 'croás', 'fragrantes', 'abacaxis', 'levantado', 'conduzira', 'comeram', 'dilijentes', 'enchendo', 'largas', 'combucas', 'tintas', 'pasta', 'crajurú', 'carmim', 'satisfeito', 'apetite', 'recolhessem', 'restos', 'provizões', 'retirou-se', 'afastaram', 'cabanas', 'bebeu', 'inspira', 'agrade', 'ajude', 'perguntasse', 'indagasse', 'acolhia', 'uzar', 'permanecia', 'jutaí', 'domina', 'boitatá', 'falaram', 'falas', 'caraúba', 'nuncio', 'jutorib', 'cipó', 'narra', 'chamado', 'aprovando', 'chama-me', 'palmeiras', 'acompanhavam', 'disputavam', 'escolhera', 'alegrará', 'longe', 'frondoso', 'jacarandá', 'aroeiras', 'ele', 'presente', 'formoso', 'inverno', 'ornato', 'imagem', 'jovem', 'proíbia', 'revelar', 'sabido', 'obedeceu', 'preparavam', 'escutavam', 'viveu', 'apressa', 'erra', 'observa', 'agua', 'rasgou', 'diluvio', 'banhou', 'despejam', 'sal', 'nace', 'pororoca', 'tocam', 'inubias', 'araruna', 'enrolam', 'batendo', 'estremece', 'agarra', 'carrega-o', 'tetivas', 'vêem', 'esconder-se', 'vivem', 'sabem', 'pedras', 'tornam', 'prival-as', 'numero', 'vizitam', 'enviam', 'crecendo', 'seiva', 'proferiu', 'buscado', 'repouzaram', 'compreendeu', 'referia', 'juquerí', 'beija', 'limpida', 'sonora', 'gorjeio', 'sabiá', 'cobrirá', 'frescura', 'gostarão', 'reunir-se', 'povôa', 'respeitam', 'murití', 'amadureça', 'correnteza', 'chupa', 'mangabeira', 'nutre', 'guia', 'responder', 'ouviram', 'silenciozos', 'aprendido', 'habitadas', 'decendentes', 'antiga', 'tupi', 'vivia', 'ferozes', 'esses', 'saíriam', 'decido', 'defendel-as', 'pulavam', 'altas', 'rezina', 'cheiroza', 'creava', 'bucho', 'faziam', 'dessa', 'goma', 'colares', 'pulseira', 'artelho', 'daquella', 'ajil', 'protejiam', 'caiporas', 'apartavam', 'referiu', 'admiravam-se', 'juizo', 'acreditaram', 'mandado', 'correr', 'terras', 'calaram', 'pensamento', 'comunicarem', 'reunisse', 'ocupação', 'agradasse', 'pescadores', 'anzóes', 'gequis', 'dezejos', 'aproximaram-se', 'livres', 'davam', 'retiravam', 'proteção', 'concebidos', 'dê', 'escolhesse', 'partilhasse', 'enfeitado', 'agradar', 'umas', 'urdidas', 'vistozas', 'passaros', 'predileção', 'perfumado', 'essencia', 'soltos', 'derramavam', 'fragancia', 'chegando', 'amoroza', 'cantavam', 'balaio', 'palha', 'sentára-se', 'ajeis', 'enfiavam', 'sementes', 'jequerití', 'ramal', 'compunha', 'percebia', 'abandonavam', 'encantos', 'voltava-se', 'trinado', 'crajuá', 'iludido', 'cuidando', 'apartou', 'dellas', 'alegraria', 'gozar', 'guajerú', 'orvalhos', 'conduze-me', 'saiba', 'noites', 'seguidas', 'chegaria', 'vinhas', 'tranquilo', 'permite', 'mereça', 'dispute', 'virtude', 'dezejar', 'trabalhar', 'receio', 'perder', 'boia', 'balança', 'nenufar', 'erguia', 'pastar', 'mergulhou', 'arpéu', 'lombo', 'dezenrolasse', 'puxou-o', 'levou-o', 'vivo', 'custaram', 'deital-o', 'cortaram', 'postas', 'cavaram', 'grelhas', 'reboavam', 'gritos', 'perseguiam', 'assobio', 'zombára', 'torrente', 'xingú', 'caíam', 'lascadas', 'agarrado', 'prezo', 'laço', 'encontrára', 'decera', 'lagôa', 'espreitava', 'mordeu-o', 'esticando', 'encolhendo-se', 'beira', 'urrou', 'disparou', 'cauda', 'arrebentou', 'piassaba', 'aguentar', 'bravia', 'agachar-se', 'reinára', 'farta', 'penetrava', 'espessura', 'brenhas', 'profundeza', 'escapava', 'unhas', 'rasgavam', 'falta', 'manjar', 'predileto', 'dezejado', 'provizão', 'necessaria', 'refeição', 'trabalhava', 'taboleiro', 'matumbos', 'enterrasse', 'maniva', 'semeasse', 'feijão', 'milho', 'fumo', 'plantação', 'transmitia', 'fecundidade', 'depozitava', 'plantava', 'aipim', 'endurecia', 'páu', 'vazantes', 'capinava', 'plantas', 'deixava', 'crecer', 'arroz', 'inhame', 'bananeiras', 'acompanhava', 'dezejada', 'preferisse', 'obteria', 'lembrava-se', 'espreitavam', 'urdia', 'crauatá', 'fina', 'penujem', 'escarlate', 'cuidavam', 'côres', 'cimo', 'seguida', 'deciam', 'cortava', 'roza', 'galeirões', 'nadava', 'bôto', 'mururê', 'desprendeu', 'levada', 'cuidou', 'arrebatado', 'mergulharam', 'salval-a', 'julgavam', 'pizando', 'recebia', 'suspeitassem', 'preferencia', 'adivinhava', 'murmurio', 'irerê', 'durava', 'desprendiam-se', 'surjiam', 'matára', 'vizitar', 'arredores', 'suspeito', 'inquietava', 'romper', 'amado', 'buscaram', 'polpa', 'guaranan', 'adoçada', 'colheu', 'encarnados', 'pendiam', 'trepadeira', 'pirijá', 'precizava', 'ornar', 'conquistasse', 'dezuzado', 'macana', 'afiada', 'apertava', 'matal-a', 'acompanhe', 'fale', 'ameaçou', 'cortou', 'comprida', 'imbê', 'dês', 'astucia', 'veneno', 'cobra', 'amiga', 'venenoza', 'sós', 'claro', 'apagára', 'receiou', 'voltasse', 'preparou-se', 'cobril-a', 'alegre', 'fazel-a', 'tiver', 'consentirá', 'durma', 'decerá', 'cobrir', 'achará', 'morreu', 'amar', 'ofereceria', 'recebesse', 'morreria', 'amaria', 'retirasse', 'saberia', 'acampou', 'retira', 'alegrar', 'perde', 'repouzar', 'busque', 'volte', 'cheia', 'morre', 'arrancal-a', 'brota', 'apagar', 'provar', 'darás', 'afastou', 'desviar', 'ira', 'matam', 'deixou-me', 'morrem', 'chamará', 'mata-me', 'dezatou-lhe', 'áquella', 'apanha', 'souber', 'defender', 'cruzados', 'estivessem', 'preferida', 'generoza', 'deviam', 'posse', 'transpondo', 'arassoia', 'cerca', 'formam', 'remoça', 'feros', 'seguem', 'cerca-se', 'unica', 'trata', 'heroico', 'nobres', 'prezar', 'ufanam', 'guardar', 'orgulhozo', 'soberba', 'coroado', 'distinguem-se', 'bracelete', 'peixes', 'golfinho', 'assalto', 'lagôas', 'cauatá', 'corredor', 'altivo', 'cristas', 'serrania', 'retroar', 'anunciando', 'começo', 'acende', 'dezejo', 'ganha', 'perseverança', 'clamou', 'esgrimindo', 'pertencer-lhe', 'pertencerá', 'bravura', 'afagou', 'esperança', 'pugna', 'girando', 'madeiros', 'arrojados', 'ameaçado', 'postára', 'varia', 'expelindo', 'manteve-se', 'convinha', 'descansar', 'erguer', 'achou', 'fatigado', 'empunhas', 'habituado', 'restituirá', 'arrebatar', 'vitorias', 'atacava', 'desfechou-lhe', 'aparou-o', 'arrebatando', 'abalava', 'mostrado', 'saíssem', 'tocaram', 'destra', 'entalhára', 'vergavam', 'foram', 'precizos', 'trazel-o', 'sentada', 'vespera', 'burnira', 'sambaiba', 'esfregára', 'banha', 'teú', 'escorregasse', 'espalharam', 'cortadas', 'fincaram', 'cercas', 'dificil', 'disparada', 'levantasse', 'parar', 'assaltavam', 'tomal-o', 'jogo', 'ajilidade', 'protejel-a', 'ouzassem', 'dezejal-a', 'rebatendo', 'adormecida', 'ardendo', 'ímpetos', 'roubar-lhe', 'planicie', 'aberta', 'intento', 'tolher-lhe', 'derrubadas', 'obstaculos', 'acumulados', 'hezitou', 'corcovas', 'galgou', 'caiçaras', 'subiu', 'estrepavam', 'aproximaram', 'ofegante', 'erguia-se', 'tentasse', 'subir', 'carregado', 'alcançariam', 'arrancar-lhe', 'assaltos', 'percorreu', 'colocar', 'termo', 'correria', 'triunfante', 'defenderia', 'ataques', 'recolhel-a', 'azilo', 'galhardia', 'alcançado', 'confuzão', 'deveu', 'escapar-se', 'recuperou', 'empolgado', 'falseou', 'tombou', 'entraram', 'decidir', 'demorou', 'arrebatou', 'disputam', 'serpes', 'entoado', 'ogib', 'bojo', 'perturbe', 'tatú', 'suporte', 'sereno', 'mortificações', 'importunações', 'crianças', 'gasta', 'cobertas', 'lamentações', 'povoar-se', 'tampo', 'abertura', 'caber', 'meteu', 'vazo', 'contentes', 'saís', 'pouzaram', 'continha', 'formigueiro', 'saúvas', 'açuladas', 'formigas', 'vorazes', 'prepararam', 'dilacerar', 'caísse', 'dentada', 'anda', 'braza', 'fogueira', 'fitaram', 'espreitar-lhe', 'minimo', 'sorria', 'adoçou', 'parecer', 'disfarçava', 'fortalece', 'enrija', 'crauba', 'fabríca', 'agudas', 'colhe', 'espinhe', 'toca', 'agudo', 'sarjasse', 'dourado', 'sapotí', 'roçar', 'concluir', 'gostoza', 'moquem', 'saborozos', 'espuma', 'sorrir', 'rasgar', 'retirar', 'inflamada', 'esfregou', 'pele', 'suco', 'conhecida', 'inchação', 'chamada', 'nesta', 'agrado', 'livrar-se', 'ganhar-lhe', 'afeto', 'escape', 'carcará', 'fuja', 'ouve', 'fabricar', 'pensa', 'vagar', 'colocou', 'mussurana', 'longas', 'arqueou', 'vestidos', 'brilhantes', 'arirama', 'seguiu-a', 'zombava', 'alcançal-a', 'tentaria', 'dever', 'rendida', 'aceitasse', 'trançava', 'colibri', 'adeja', 'rapida', 'alcançaria', 'fujir-lhe', 'reclinou', 'rubor', 'entregava', 'construira', 'craviri', 'vestiam', 'matizavam', 'conduziu', 'utensilios', 'revelou', 'aceitára', 'belas', 'poderozos', 'ajita', 'murmuram', 'enfeita', 'saírem', 'suspenda', 'palpitante', 'ornou', 'bebiam', 'tunica', 'cinjida', 'admiravam', 'córava', 'pejo', 'medo', 'achem', 'enfeites', 'penugem', 'deixasse', 'queimarão', 'igapê', 'abre', 'tinje', 'botão', 'clamor', 'decidido', 'declarar', 'recebido', 'orgulhoza', 'conquistára', 'admiração', 'inspirar', 'entrará', 'habite', 'ofendido', 'tomei', 'seguinte', 'partiria', 'prometera', 'interrompeu', 'soube', 'rompera', 'arquejou', 'tenho', 'vergou', 'altaneiro', 'batido', 'partira', 'rastejar', 'pensavam', 'buscava', 'sabiam', 'emudeceram', 'respeitavam', 'ouzavam', 'perturbal-a', 'aproximára-se', 'chora', 'mostrar-se', 'ofenderá', 'velozes', 'partirão', 'levar-te', 'verás', 'reuniram', 'assistirem', 'lento', 'retrocedeu', 'apagando', 'vestijio', 'observava', 'postou-se', 'largo', 'repercutiu', 'lumiar', 'acolhido', 'acabou', 'proferir', 'cravada', 'simbolo', 'ergueram', 'sagrada', 'perturbar', 'enviaste', 'mordeu', 'restituas', 'conquistal-a', 'preparar-se', 'cinco', 'entregou-se', 'seguir', 'falava', 'ternura', 'partindo', 'unia-se', 'moveria', 'salvar', 'abandonar', 'resoavam', 'cantos', 'acompanhasse', 'chuva', 'alagaram', 'lembra', 'dormiu', 'aprende', 'perigo', 'assentou', 'amasse', 'abandonaria', 'cinjiram', 'entrelaçou', 'respeitou', 'deixará', 'traição', 'consolou', 'pedir', 'voltar', 'uniu', 'separar', 'fechou', 'passado', 'apagava', 'vibrando', 'clava', 'derramou-se', 'arrebenta', 'subia', 'pincaro', 'convocados', 'mandou', 'viesse', 'alaga', 'esperam', 'inundarem', 'levar-lhe', 'socorro', 'dezhonra', 'prometeste', 'exije', 'pizaria', 'decepado', 'recuperes', 'surpreendeu', 'reconhecera', 'exijia', 'combatendo', 'arrimou-se', 'apoia', 'reunira', 'meditar', 'irritava', 'dezaparecimento', 'reparou', 'voto', 'convocasse', 'falasse', 'medita', 'soltar', 'emudecerá', 'embranqueceu', 'decidiu', 'tratou', 'ácerca', 'defeza', 'assaltar', 'nhengaçára', 'respeitados', 'penetravam', 'entoando', 'ouzava', 'ofender', 'concedera', 'fonte', 'aprezentou-se', 'quantos', 'rujiu', 'vulto', 'borbotões', 'conhecem', 'encostes', 'combata', 'incendiou', 'devorado', 'dura', 'farpão', 'anun', 'escutou', 'trocasse', 'recuzar', 'juntamente', 'respostas', 'restitue', 'ofende', 'auxilio', 'triunfar', 'derrote', 'repelir', 'castigar', 'varrel-os', 'combaterão', 'necessitam', 'aliados', 'venham', 'falará', 'dirá', 'estiver', 'sob', 'sofrerá', 'cobarde', 'levarás', 'dirás', 'arme', 'deixe', 'conta-lhe', 'teceu', 'move-se', 'lagos', 'formados', 'chuvas', 'transformam', 'atravessam', 'levantou-se', 'arremetendo', 'achou-se', 'combatido', 'viverem', 'formidaveis', 'possivel', 'morresse', 'encostasse', 'désse', 'reparar', 'estragos', 'apoiado', 'admirava', 'vencel-os', 'durára', 'lastravam', 'espedaçado', 'ajitavam', 'semelhantes', 'condores', 'prezas', 'pincaros', 'dilaceram', 'bico', 'adunco', 'espantoso', 'estremeceu', 'profundezas', 'pelejava', 'alcançava', 'gaivota', 'feitas', 'caçava', 'divertia-se', 'motuças', 'traspassando-as', 'voavam', 'rapidas', 'vespas', 'venenozas', 'saltára', 'admirando', 'desfechára', 'espedaçaram', 'deixando-o', 'mercê', 'espadua', 'fazel-o', 'sibilou', 'humedecera', 'choraram', 'vazado', 'pupilas', 'fero', 'jandaia', 'rôe', 'grelo', 'procero', 'sossobrou', 'horror', 'estendera', 'hirtos', 'abarcou', 'cabeleira', 'esquerda', 'travou-lhe', 'queixo', 'separaram-se', 'abriu-se', 'fende', 'ajitando', 'craneo', 'sangrento', 'maracá', 'buscando', 'homens', 'exito', 'lamentou', 'restasse', 'vencesse', 'destroços', 'retezar', 'aguia', 'andorinha', 'quanto', 'empregar', 'prover', 'estou', 'olhando', 'sumiu-se', 'num', 'vagalumes', 'luzir', 'nessa', 'realizado', 'aplauzos', 'conduziam', 'sapopema', 'fitava', 'abandonára', 'abaixava', 'buscasse', 'estranjeiros', 'alongou', 'recuzavam', 'resto', 'faze', 'caminhará', 'abrir-lhe', 'morrerá', 'furar', 'tucanos', 'pouzou', 'palma', 'caçar', 'fôres', 'acharás', 'castigarem', 'aumentou', 'resposta', 'sentaram-se', 'dirijir', 'fere', 'trôpego', 'alcançando', 'abraçou-se', 'falou-lhe', 'separaria', 'transmitir-te', 'esguicho', 'buracos', 'tivera', 'haverá', 'abrirá', 'governará', 'desliza', 'luar', 'olhai', 'grossas', 'geram', 'dividir', 'convocai', 'empunhe', 'contava', 'chegavam', 'direito', 'esteios', 'grossa', 'vergal-o', 'escutava', 'atento', 'taciturno', 'algum', 'motivo', 'separava', 'conquistal-o', 'fincando', 'nelle', 'cravar', 'fincada', 'curvára', 'vergava', 'depôz', 'peza', 'negou', 'consolação', 'sair', 'transmitiu', 'sube', 'bastaria', 'igualal-os', 'faltasse', 'reje', 'caitetús', 'desgarra-se', 'rumo', 'abrir-lhes', 'inventar', 'suceder', 'rezignavam', 'abater', 'trocando', 'leve', 'manejasse', 'anunciára', 'podendo', 'empunharia', 'gloriozo', 'reuniu', 'durante', 'defendera', 'protejera', 'salvação', 'defendida', 'experiencia', 'pensem', 'obedecerão', 'diz', 'extinguir', 'passando', 'unirá', 'brotar', 'acajás', 'limo', 'gera', 'seguí-me', 'guiado', 'incerto', 'lembravam-se', 'maracujá', 'sustenta', 'penedo', 'adiante', 'entoavam', 'precedera', 'perturbasse', 'abraçal-o', 'pediu', 'teria', 'vivido', 'cometer', 'fraqueza', 'trazer-te', 'repartas', 'povo', 'levaste', 'restituiste', 'merecias', 'ameaçaste', 'tomal-a', 'conceder-te', 'abatesse', 'preparava-se', 'fujiu-lhe', 'pronunciou', 'sossobrou-lhe', 'andorinhas', 'zombam', 'conquistarás', 'farás', 'conservarás', 'brote', 'vigorozo', 'netos', 'dominem', 'sorriu', 'cede', 'palpou', 'vergou-lhe', 'taquarí', 'desdenhando', 'fincal-o', 'elevou-o', 'acima', 'ornada', 'remoçou', 'recordava', 'vigor', 'creciam', 'aumentando', 'inclinou', 'escutar', 'sibilo', 'talhava', 'azul', 'harmonia', 'largou', 'atravessar', 'deceram', 'trespassadas', 'cruzam', 'apanhou-as', 'irmãs', 'formarão', 'ligassem', 'hastes', 'mostrou-o', 'gemeas', 'voam', 'juntas', 'cordas', 'aguias', 'remontam', 'atou-a', 'semeava', 'rompia', 'assomava', 'seguiam-se', 'estrépito', 'crivou', 'jussára', 'erriçado', 'embraçou', 'sete', 'gemeo', 'amarelas', 'subiram', 'direitas', 'perderam', 'fincado', 'enfurecidos', 'insulto', 'arremessaram-se', 'rapidez', 'estendiam', 'ribeiros', 'aproximam', 'confundir', 'bramir', 'devorou', 'girou', 'enrosca', 'silvando', 'caíram', 'caem', 'juncos', 'talhados', 'capivara', 'varre', 'sumia', 'lançou-lhe', 'fujitivos', 'despiu', 'enxugou-lhe', 'cotão', 'monguba', 'cobriu-o', 'encheu', 'aplacou', 'sêde', 'repouzava', 'repartir', 'repartiu', 'ubirajaras', 'dominou', 'caramurús', 'campeava']\n",
            "\n",
            "Os hapax do Machado são:\n",
            " \n",
            "['texto-fonte', 'editora', 'aguilar', 'originalmente', 'folhetins', 'roeu', 'dedico', 'postas', 'corrigi', 'rever', 'emendei', 'suprimi', 'composta', 'encontrado', 'capistrano', 'abreu', 'noticiando', 'soares', 'recordava', 'amigamente', 'viagens', 'explicou', '\\x93trata-se', 'garret', 'modelos', 'taça', 'lavores', 'consterna', 'consternará', 'pessimismo', 'escrevi-a', 'tinta', 'antever', 'poderá', 'conúbio', 'frívola', 'privado', 'frívolos', 'angariar', 'simpatias', 'explícito', 'contém', 'truncado', 'evito', 'trabalhadas', 'nimiamente', 'extenso', 'desnecessário', 'pago-me', 'pago-te', 'poria', 'considerações', 'adotar', 'campa', 'moisés', 'intróito', 'radical', 'pentateuco', 'expirei', 'agosto', 'catumbi', 'rijos', 'prósperos', 'anúncios', 'peneirava', 'chuvinha', 'fiéis', 'engenhosa', 'proferiu', 'beira', 'conhecestes', 'chorando', 'perda', 'gotas', 'cobrem', 'crepe', 'funéreo', 'crua', 'cláusula', 'encaminhei', 'undiscovered', 'country', 'ânsias', 'príncipe', 'pausado', 'trôpego', 'viram-me', 'tenham', 'parenta', 'parentas', 'carpisse', 'altamente', 'dramática', 'expira', 'reúna', 'aparentá-lo', 'entreaberta', 'viajante', 'desferirem', 'africanas', 'ruínas', 'destroços', 'metodicamente', 'falas', 'baixas', 'tamborila', 'tinhorão', 'estrídulo', 'navalha', 'amolador', 'afiando', 'correeiro', 'juro-lhes', 'estrebuchava-me', 'esvaía-se-me', 'fazia-se-me', 'lodo', 'julgue-o', 'pendurou-se-me', 'bracejar', 'pernear', 'arrojadas', 'volatim', 'decifra-me', 'devoro-te', 'medicamento', 'emplastro', 'anti-hipocondríaco', 'aliviar', 'melancólica', 'petição', 'privilégio', 'chamei', 'neguei', 'pecuniárias', 'resultar', 'profundos', 'influiu', 'impressas', 'mostradores', 'folhetos', 'esquinas', 'caixinhas', 'cartaz', 'foguete', 'modestos', 'argúam', 'hábeis', 'medalhas', 'virada', 'sede', 'digamos', 'prebenda', 'perdição', 'cobiçar', 'terços', 'decida', 'iii', 'genealogia', 'deixem-me', 'esboço', 'genealógico', 'fundador', 'floresceu', 'penúria', 'exercesse', 'lavrador', 'plantou', 'colheu', 'permutou', 'honradas', 'patacas', 'cabedal', 'licenciado', 'estudou', 'primou', 'cheirasse', 'excessivamente', 'alegava', 'bisneto', 'cavaleiro', 'jornadas', 'façanha', 'arrebatando', 'mouros', 'calembour', 'leal', 'pacholice', 'pachola', 'releva', 'recorreu', 'inventiva', 'experimentar', 'falsificação', 'entroncou-se', 'homônimo', 'fundou', 'vila', 'vicente', 'opôs-se-lhe', 'imaginou', 'mouriscas', 'vivem', 'antecipemos', 'iv', 'constituíra-se', 'argueiro', 'trave', 'cavour', 'bismarck', 'advertir', 'caprichosa', 'loureira', 'deu-nos', 'cláudio', 'simplório', 'tito', 'mereceu', 'modernamente', 'professor', 'demonstrar', 'césares', 'madama', 'lucrécia', 'bórgias', 'messalina', 'católica', 'gregorovius', 'apagou', 'ficaste', 'deixo-me', 'sábio', 'furta-cor', 'cláudios', 'pirâmides', 'egito', 'finada', 'dieta', 'germânica', 'quadrar', 'veja-a', 'torcer-me', 'narrativa', 'confrades', 'desafrontado', 'supinamente', 'brincalhona', 'edifica', 'destrói', 'regala', 'passatempo', 'apostolado', 'retifique', 'tornemos', 'pelejou', 'batalha', 'salamina', 'augsburgo', 'lembro', 'trancara', 'imposto', 'vitória', 'farmácia', 'puritanismo', 'bandeira', 'ostensiva', 'bandeiras', 'hasteiam', 'flutuam', 'sobrevivem', 'comparando', 'arraia-miúda', 'acolhia', 'feudal', 'arraia', 'graúda', 'castelã', 'presta', 'ocupado', 'preparar', 'apurar', 'ascender', 'turbas', 'imortal', 'punge', 'tratei-me', 'incompletamente', 'aziago', 'provado', 'lúcidas', 'triunfantes', 'galgar', 'figurar', 'macróbios', 'robustez', 'suponha-se', 'lançando', 'alicerces', 'farmacêutica', 'instituição', 'reforma', 'vence', 'cálculo', 'contemporâneas', 'imponente', 'amamos', 'chimène', 'dit', 'rodrigue', 'detida', 'jazia', 'contemplei-a', 'fôramos', 'ezequias', 'juvenis', 'sacudi', 'pó', 'juventa', 'igualaria', 'creiam-me', 'fie', 'gota', 'espasmo', 'evocação', 'dominou', 'expeliu', 'exponha', 'câmbio', 'colonização', 'desenvolver', 'viação', 'férrea', 'moribundo', 'articular', 'devastados', 'resistem', 'começavam', 'escuros', 'intercalar-se', 'fios', 'muxoxo', 'apertar', 'ando', 'ponho', 'carícia', 'lacrimosa', 'enfermeiro', 'notícias', 'narrando-as', 'travo', 'satânico', 'mofar', 'persuadir-me', 'estarmos', 'vou-me', 'retorqui', 'repara', 'inconsciente', 'permitiu', 'corresponder', 'afáveis', 'adivinhou-me', 'repares', 'imaculadas', 'suspeito', 'denunciar', 'igualdade', 'dominação', 'tocássemos', 'casualmente', 'nuns', 'ilegítimos', 'divulgados', 'sentia-se', 'diriam', 'gaviões', 'buffon', 'gavião', 'vii', 'conste', 'relatou', 'faço-o', 'agradecerá', 'mentais', 'chinês', 'bojudo', 'escanhoando', 'confeitos', 'transformado', 'tomás', 'impressa', 'encadernada', 'marroquim', 'estampas', 'cruzando-as', 'descruzava', 'ultimamente', 'restituído', 'atrevi', 'interrogá-lo', 'engana-se', 'muitíssimo', 'fingiu', 'perguntando-lhe', 'descendente', 'asna', 'balaão', 'quadrúpedes', 'fechei', 'nilo', 'fechados', 'aumentava', 'gelos', 'galopava', 'animais', 'gelar-nos', 'tentei', 'passamos', 'éden', 'paremos', 'tenda', 'caminhamos', 'redargüiu', 'motejando', 'parecer-me', 'extravagante', 'condução', 'chegássemos', 'irritados', 'devassarem', 'esmagassem', 'seculares', 'devorando', 'voava', 'estacou', 'brancura', 'invadira', 'brutesca', 'meneando', 'dissera-se', 'estúpida', 'destacou-se', 'fitando-me', 'vastidão', 'selváticas', 'perdiam-se', 'diáfano', 'chama-me', 'soltou', 'gargalhada', 'torceram-se', 'gemido', 'mudez', 'assustes', 'inimizade', 'afirma', 'enterrando', 'certificar-me', 'receies', 'provarás', 'ensandeceste', 'reouver', 'segurou-me', 'contorção', 'ferocidade', 'impassibilidade', 'surdez', 'imóvel', 'encerradas', 'glacial', 'mescla', 'viço', 'débil', 'decrépito', 'entendeste-me', 'entender-te', 'fábula', 'enlouqueci', 'passas', 'alienado', 'reger', 'palpar', 'conheço', 'levo', 'bolsa', 'tremes', 'fascina-me', 'devolver-me', 'emprestei', 'espera-te', 'ecoou', 'trovão', 'afigurou-se-me', 'decomposição', 'encarei-a', 'súplices', 'devorar', 'devorado', 'sobejo', 'deparei', 'alvor', 'quietação', 'aspectos', 'golpear', 'matando-me', 'jucundo', 'perece', 'subsiste', 'dizes', 'tenro', 'estatuto', 'arrebatou-me', 'inclinei', 'vertentes', 'contemplei', 'desfilar', 'impérios', 'apetites', 'ódios', 'acerbo', 'condensação', 'descrevê-la', 'desfilavam', 'multiplicando', 'agravando', 'debilidade', 'devora', 'enxada', 'úmidas', 'destruí-lo', 'vestes', 'arlequim', 'bastarda', 'flagelado', 'fatalidade', 'nebulosa', 'esquiva', 'retalho', 'cosidos', 'quimera', 'perpetuamente', 'apanhar', 'cingia', 'sumia-se', 'reter', 'angústia', 'protestar', 'descompassado', 'monótona', 'jó', 'amaldiçoava', 'concebido', 'ganas', 'compelir-me', 'fortemente', 'continuavam', 'velozes', 'turbulentos', 'superpunham', 'hebreus', 'devassos', 'pontuais', 'retinha', 'chegará', 'passará', 'dará', 'fixei', 'apatia', 'rebentavam', 'amareleciam', 'regularidade', 'calendário', 'desarmado', 'armava-se', 'vestia-se', 'construía', 'tugúrio', 'palácio', 'aldeia', 'perscruta', 'enleva', 'mecânico', 'esfera', 'colaborando', 'entretinha', 'desamparo', 'futuros', 'ágil', 'difuso', 'sabedor', 'miserável', 'passaram', 'redobrei', 'trocarem-se', 'cresceram', 'minguaram', 'perderam-se', 'cobriu', 'encarei-o', 'sultão', 'viii', 'voltava', 'convidava', 'clamando', 'jus', 'maison', 'est', 'moi', 'vous', 'sortir', 'alheias', 'dificilmente', 'farão', 'despejar', 'tira', 'calejou', 'advertirmos', 'ocupa', 'estações', 'calmosas', 'concluiremos', 'peregrina', 'proprietários', 'distúrbio', 'adventícia', 'cantinho', 'sótãos', 'experimentada', 'mansamente', 'pista', 'emendou', 'pôs-se', 'travou-lhe', 'arrastou-a', 'grunhiu', 'zangas', 'desenganou-se', 'surriada', 'destreza', 'pecado', 'viram', 'juntura', 'divirta', 'pausada', 'rigidez', 'tê-lo', 'suspensórios', 'vizinha', 'fronteira', 'inspetor', 'quarteirão', 'eloqüência', 'feiticeira', 'tesa', 'engomada', 'pascoela', 'parteira', 'minhota', 'gabava', 'geração', 'fidalgos', 'paterno', 'induziu', 'gratificá-la', 'meias', 'lavado', 'enfaixado', 'prognosticava', 'quadrava', 'náuseas', 'farejava-me', 'admiraria', 'destinasse', 'bento', 'alçava-me', 'intentasse', 'mostrar-me', 'narrar', 'ignoro', 'pormenores', 'cumprimentar', 'recém-nascido', 'trabalhasse', 'aventou-se', 'calção', 'bênçãos', 'acabá-lo', 'batizado', 'referiram', 'galhardas', 'batizei-me', 'terça-feira', 'padrinhos', 'descendiam', 'famílias', 'honravam', 'derramado', 'obrigassem', 'recitá-los', 'excelentíssimo', 'vaz', 'andrade', 'madrinha', 'excelentíssima', 'luísa', 'resende', 'exclamavam', 'ouvintes', 'concordava', 'babavam-se-lhe', 'espalmava', 'fitava-me', 'apressar', 'obrigavam-me', 'pegavam-me', 'davam-me', 'carrinhos', 'atraído', 'lata', 'acolá', 'matreiros', 'lineamentos', 'merecera', 'alcunha', 'malignos', 'voluntarioso', 'quebrei', 'negara', 'deitei', 'cinza', 'estragara', 'cordel', 'queixos', 'guisa', 'trepava-lhe', 'dorso', 'varinha', 'fustigava-o', 'rabos', 'matronas', 'façanhas', 'jaez', 'indócil', 'expressões', 'robusto', 'tinha-me', 'repreendia', 'conclua', 'opiniático', 'algo', 'contemptor', 'puxei', 'afeiçoei-me', 'injustiça', 'atenuá-la', 'explicá-la', 'classifiquei-a', 'padrão', 'rígido', 'doutrinava-me', 'decorar', 'governavam', 'regra', 'mingau', 'devedores', 'maldade', 'exclamava', 'adorava-me', 'fraca', 'crédula', 'abastada', 'temente', 'colaboração', 'viciosa', 'incompleta', 'reparos', 'ensino', 'emenda', 'aplicava', 'usado', 'confundir', 'iludia-se', 'envolta', 'picaresca', 'admitir-me', 'reais', 'eivadas', 'obscenidade', 'imundície', 'adolescência', 'enveredava', 'escabroso', 'entendendo', 'achando-lhe', 'achá-lo', 'palestrar', 'escravas', 'ditos', 'perguntas', 'risadas', 'tanga', 'arregaçar-lhes', 'palmo', 'vestidos', 'inclinadas', 'batê-las', 'ensaboá-las', 'torcê-las', 'redargüindo', 'pilhérias', 'comentá-las', 'pureza', 'dotes', 'realçavam', 'compensavam', 'substancial', 'externo', 'hierarquia', 'preeminências', 'sobrepelizes', 'circunflexões', 'altar', 'lacuna', 'excitava-o', 'mandamentos', 'trecho', 'tertuliano', 'nicéia', 'cantadas', 'oficiante', 'aspirar', 'piedoso', 'observância', 'regras', 'subalterno', 'carecia', 'incutir', 'impor', 'materna', 'diferençava-se', 'viveu', 'merecem', 'citados', 'intermitente', 'claros', 'indicada', 'frouxidão', 'xii', 'granjeara', 'persuadir', 'acabara', 'persuadindo-se', 'renhidas', 'contendas', 'déspota', 'corso', 'dividiam-se', 'controvérsias', 'rusgas', 'chasco', 'remoque', 'vencidos', 'julgaram', 'decoroso', 'bateram', 'população', 'regateou', 'afeto', 'iluminações', 'salvas', 'figurei', 'nesses', 'antônio', 'interessava-me', 'rumorosa', 'arrancavam', 'ecoava', 'experimentado', 'vai-te', 'cuidas', 'contentou', 'quinhão', 'celebrar', 'destituição', 'ruído', 'avô', 'toalhas', 'flandres', 'matou-se', 'capado', 'encomendaram-se', 'madres', 'marmeladas', 'lavaram-se', 'arearam-se', 'poliram-se', 'castiçais', 'arandelas', 'vastas', 'luxo', 'clássico', 'achou-se', 'reunida', 'seleta', 'juiz-de-fora', 'oficiais', 'militares', 'funcionários', 'administração', 'comungando', 'atolar', 'papo', 'peru', 'acepipe', 'esmeralda', 'pedir', 'repetido', 'cravar', 'alçar', 'índice', 'glosado', 'deuses', 'davam-lho', 'glosava-o', 'botequim', 'nicola', 'glosarmos', 'bravos', 'duquesa', 'expressas', 'ênfase', 'produziram', 'assembléia', 'frêmito', 'pleitear', 'discreteava', 'duquesas', 'sentiam-se', 'superfinas', 'olhavam-no', 'incredulidade', 'acumular', 'rimas', 'tirano', 'usurpador', 'palavrear', 'estômagos', 'satisfeitos', 'moles', 'espreguiçavam-se', 'saltitavam', 'atulhada', 'frutas', 'ananás', 'fatias', 'melão', 'compoteiras', 'cristal', 'ralado', 'gema', 'melado', 'cará', 'amplo', 'agitavam-se', 'modinhas', 'cantar', 'cravo', 'faltava', 'matrona', 'prometesse', 'oitavado', 'compasso', 'folgara', 'loanda', 'sobrinho', 'negociado', 'trazia-as', 'afiançava', 'cento', 'cessava', 'estacado', 'voltavam', 'aconcheava', 'cândido', 'solitário', 'deslembrado', 'esperando', 'intata', 'extensos', 'mirava-se', 'carões', 'deliciava-se', 'familiaridade', 'travada', 'distantes', 'servisse', 'sucediam-se', 'bátegas', 'obrigando-me', 'recolher', 'pacientei', 'berrei', 'exigisse', 'arrancara-me', 'entregara-me', 'delito', 'retardara', 'bastou', 'cogitasse', 'vingança', 'medido', 'lento', 'rabo', 'espreitá-lo', 'segui-lo', 'domingues', 'robusta', 'donzelona', 'sina', 'penetrado', 'lusco-fusco', 'segui-os', 'chispas', 'morrerei', 'vasculhava', 'literário', 'verifiquei', 'judeu', 'chores', 'amanheça', 'puxou-a', 'uniram', 'correndo', 'estouro', 'imobilizou', 'espraiavam-se', 'banda', 'trocavam-se', 'segredos', 'socapa', 'arrastavam', 'pretextando', 'sereno', 'disfarçadamente', 'lembrando', 'sacudiu-me', 'xiii', 'unamos', 'cacholetas', 'apanhá-las', 'diabruras', 'praias', 'ociosos', 'ralhos', 'castigos', 'lições', 'pesada', 'ó', 'ossudo', 'calvo', 'incutiu', 'alfabeto', 'prosódia', 'sintaxe', 'praguejada', 'modernos', 'jugo', 'imberbe', 'ignorâncias', 'querias', 'metias', 'meteste', 'zanga', 'chinelas', 'capote', 'calva', 'mostra', 'rapada', 'bufar', 'absorver', 'pitada', 'chamar-nos', 'pontual', 'metido', 'piolho', 'enfadar', 'rudimentos', 'escrever-lhe', 'funesto', 'servia', 'enfiar', 'tinteiro', 'encontrava', 'pulo', 'circulava', 'chamejantes', 'dizia-nos', 'sevandijas', 'malcriados', 'tremiam', 'espetados', 'inventivo', 'travesso', 'adorava', 'trazia-o', 'amimado', 'asseado', 'enfeitado', 'vistoso', 'gazear', 'caçar', 'ninhos', 'perseguir', 'lagartixas', 'conceição', 'arruar', 'peraltas', 'escolhia', 'supremacia', 'garbo', 'magnificência', 'meneios', 'suspendamos', 'adiantemos', 'pungia-me', 'buçozinho', 'resolutos', 'máscula', 'ostentasse', 'arrogância', 'esporas', 'baladas', 'medieval', 'estafaram', 'deitá-lo', 'realismo', 'lazeira', 'transportou', 'airoso', 'inclinou', 'pensativa', 'castíssimo', 'chamavam', 'astúrias', 'nascera', 'madri', 'vítima', 'invasão', 'francesa', 'ferido', 'encarcerado', 'espingardeado', 'cosas', 'españa', 'inocência', 'rústica', 'escrúpulos', 'tolhida', 'permitia', 'arrastar', 'estouvamentos', 'luminárias', 'constou', 'amanhecer', 'arrebatamentos', 'airosa', 'vistosa', 'ondulante', 'desgarre', 'puras', 'segue-me', 'segui-a', 'chamaram-lhe', 'tonto', 'ceia', 'tubérculos', 'presidia', 'noturno', 'gentil', 'partido', 'cheias', 'entusiasmo', 'imperioso', 'estouvado', 'subir', 'abrir-me', 'segurei-lhe', 'gritou', 'ébrio', 'xv', 'cego', 'granjear', 'violento', 'touro', 'insinuativo', 'cisne', 'leda', 'danae', 'inventos', 'zeus', 'moda', 'trocados', 'traças', 'urdi', 'peitas', 'alternativas', 'baldadas', 'preliminares', 'afirmo-lhes', 'sancho', 'citado', 'apeei-me', 'anca', 'mandei-o', 'pastar', 'bíblica', 'chapa', 'contaste', 'dezoito', 'lembrar-te', 'ligação', 'curo', 'consular', 'regemos', 'acreditasse', 'credulidade', 'evidência', 'depôs', 'insígnias', 'concentrei', 'poderes', 'cesariana', 'multiplicá-lo', 'inventá-lo', 'explorei', 'larguezas', 'abuso', 'restringiu', 'franquezas', 'induzi-a', 'desviar', 'sacar', 'obrigações', 'resgatar', 'usura', 'procurar', 'ensaiá-la', 'beijar-me', 'reincidência', 'impetuosa', 'protestando', 'derramava-se-lhe', 'levava-lhe', 'quantas', 'juntava-as', 'chave', 'escondia-a', 'sólidos', 'móveis', 'lavrado', 'espelhos', 'doara', 'deste-me', 'despojos', 'relembrando', 'nascesse', 'bruxa', 'serafim', 'klopstock', 'explico', 'tardios', 'açular', 'perdôo', 'fizer', 'ameaçando-me', 'passarinho', 'espalmou', 'momo', 'consentiria', 'comprassem', 'guardava-a', 'conseguia', 'relutância', 'escasso', 'metendo', 'disseste', 'percebeste', 'molestar', 'chiquito', 'desconfiado', 'amei', 'digas', 'cessa', 'estrangulou-lhe', 'conchegou-me', 'sussurrou-me', 'levei-lhe', 'recusado', 'lembrares', 'indignado', 'atirar', 'retive-lhe', 'pagava-me', 'recônditos', 'acudisse', 'criancice', 'trajar', 'palreira', 'arábias', 'renda', 'brincos', 'encantar', 'xvi', 'correção', 'afirmam', 'gramática', 'vossos', 'dixes', 'fiados', 'terço', 'quinto', 'cingir', 'diadema', 'xvii', 'sobressaltou-se', 'excedia', 'raias', 'cursar', 'quero-te', 'arruador', 'títulos', 'resgatados', 'sacudiu-mos', 'zelar', 'pensas', 'ganhamos', 'vadiar', 'tomas', 'ficas', 'furioso', 'ouvi-o', 'opus', 'ruminava', 'dolente', 'advogado', 'franziu', 'cantarolou', 'seguidilha', 'queixou-se', 'aluá', 'trouxe-lho', 'ofereceu-me', 'polidamente', 'refresco', 'entornou-se-lhe', 'líquido', 'bradei-lhe', 'ficando', 'derramei', 'monstro', 'chamei-lhe', 'feios', 'descompostos', 'deixara-se', 'mármore', 'humilhar', 'subjugando-a', 'trocou-se', 'contrito', 'súplice', 'beijei-lhos', 'repeti-lhe', 'queridos', 'apertando-lhe', 'desvairado', 'enfastiado', 'molhado', 'caminhou', 'lançar-lhe', 'fechara-se', 'desatinado', 'mortais', 'vaguear', 'bairros', 'excêntricos', 'desertos', 'mastigando', 'gula', 'evocava', 'comprazia', 'pesadelo', 'enganando-me', 'tentava', 'rejeitá-los', 'fardo', 'resolvia', 'metades', 'deleitava-me', 'ralada', 'amara-me', 'tonta', 'ciúme', 'enterrava-se-me', 'ferindo', 'punhada', 'concepções', 'abstrusas', 'trabalhou', 'deslumbrá-la', 'arrastá-la', 'concreto', 'medi', 'comprei', 'encastoados', 'marfim', 'pendentes', 'ver-se-lhe', 'pezinho', 'calçado', 'soltos', 'derramados', 'arranjei', 'recursos', 'terás', 'cotovelo', 'curtos', 'retirou', 'tinha-se', 'lancei-lhe', 'coligi-os', 'enlacei-os', 'improvisei', 'alinho', 'rematei-o', 'aproximar-me', 'corrigi-lhe', 'madeixas', 'abaixei-as', 'simetria', 'minuciosidade', 'doudo', 'puxar-me', 'pagar-me', 'admirou', 'vens', 'gostei', 'desvaneceu', 'embarcas', 'apalpar-me', 'convocar', 'dispersas', 'reaver-me', 'corrompiam-me', 'confiava', 'defeitos', 'chispava', 'bakbarah', 'vi-te', 'vizir', 'galeria', 'acenar-te', 'comprida', 'saíste', 'apuparam', 'desancaram', 'bagdá', 'paisana', 'tomaram-me', 'meteram-me', 'boléia', 'intendente', 'transportado', 'seguir', 'resisti', 'fixas', 'xix', 'recomendou-me', 'começando', 'sobreaviso', 'camilha', 'rasa', 'afiançar', 'arredores', 'enganar-se', 'subi', 'cauteloso', 'junto', 'amurada', 'estremecendo', 'admiro', 'celestial', 'desmentia', 'alheia', 'rebuscadas', 'fitei-o', 'pegou-me', 'apontou', 'perguntando-me', 'rosnou', 'lanterna', 'horaciana', 'apertou', 'agradecimentos', 'recitar-me', 'soneto', 'musa', 'varrera-me', 'interino', 'acordamos', 'berlinda', 'uivos', 'furacão', 'cantarolar', 'saltarem-lhe', 'arrepiado', 'erguia', 'ossudas', 'cruzes', 'xadrez', 'argolas', 'desesperadamente', 'amainou', 'diversão', 'ousei', 'fitá-la', 'estivera', 'versou', 'idílios', 'piscatórios', 'ingenuamente', 'poemazinho', 'abraçara', 'profissão', 'prová-lo', 'centena', 'usava', 'recitava', 'passavam', 'moribunda', 'levar-me', 'deixei-a', 'consternado', 'vagas', 'costado', 'relatou-me', 'elogiou', 'fidelidade', 'recitou-mos', 'buscá-lo', 'corremos', 'cruéis', 'fugi', 'cabos', 'conforto', 'pudessem', 'levadas', 'entreguemo-la', 'lançado', 'murchara', 'viúvo', 'cabeço', 'rijamente', 'lascado', 'acolheu', 'popa', 'distraí-lo', 'compreendendo', 'esquecerei', 'lhos', 'pagar', 'lembrarás', 'manga', 'importuna', 'derivativo', 'lera', 'ofereci-me', 'imprimi-los', 'animaram-se', 'aceite', 'frouxos', 'reunisse', 'mos', 'desembarque', 'ler-me', 'epicédio', 'memoradas', 'leu-mo', 'tesouro', 'estro', 'negará', 'prejudicou', 'perfeitos', 'acentuando', 'intenções', 'literárias', 'melodia', 'apertou-me', 'predisse-me', 'xx', 'bacharelo-me', 'devolvia', 'expelia', 'desmontava', 'naturalista', 'literato', 'arqueólogo', 'banqueiro', 'preeminência', 'desvendou', 'fulva', 'regímen', 'deixo-vos', 'calcinhas', 'desembarquei', 'esperava-me', 'matérias', 'estudei-as', 'mediocremente', 'deram-mo', 'solenidade', 'conquistado', 'folião', 'acadêmico', 'tumultuário', 'petulante', 'prático', 'liberalismo', 'teórico', 'vivendo', 'constituições', 'escritas', 'atestou', 'pergaminho', 'arraigada', 'logrado', 'explico-me', 'alforria', 'guardei-o', 'margens', 'mondego', 'acotovelar', 'xxi', 'empacou', 'montado', 'fustiguei-o', 'corcovos', 'sela', 'esquerdo', 'tento', 'disparou', 'disparar', 'saltos', 'pegar', 'detê-lo', 'bruto', 'desvencilhei-me', 'pus-me', 'contundia-me', 'congestão', 'salvara-me', 'sentia-no', 'consertar', 'arreios', 'zelo', 'resolvi', 'inestimável', 'salvou', 'dou-lhe', 'apresentando-me', 'morrendo', 'alforjes', 'excessiva', 'gratificação', 'bastavam', 'examinei-lhe', 'pobre-diabo', 'tirei-a', 'reluzir', 'suspeitou-o', 'significativo', 'castigá-lo', 'monólogo', 'paternal', 'beijava', 'olé', 'perdoar', 'bicho', 'meti-lhe', 'cavalguei', 'trote', 'braças', 'evidentes', 'cobre', 'devera', 'mira', 'constituí-lo', 'instrumento', 'pródigo', 'dissipações', 'xxii', 'figa', 'cortaste-me', 'península', 'assisti', 'alvoradas', 'efetiva', 'diário', 'peregrinação', 'atendi', 'vieres', 'soluçava', 'apertando-me', 'profecia', 'realizada', 'veneza', 'recendente', 'lord', 'byron', 'mergulhado', 'pleno', 'revivendo', 'crendo-me', 'sereníssima', 'república', 'signor', 'mio', 'caí', 'confessei', 'charada', 'americana', 'charadas', 'americanas', 'gôndola', 'lorde', 'rialto', 'disparei', 'bala', 'esqueço-me', 'comendo', 'prejuízo', 'compridos', 'quadram', 'pesadões', 'in-folio', 'dourado', 'vinhetas', 'avistar', 'natal', 'torre', 'chafariz', 'mantilha', 'ganho', 'cenas', 'buriladas', 'renascença', 'pássaro', 'arrepiou', 'fonte', 'mesclada', 'reparando', 'tristemente', 'matava', 'roer', 'dedicadas', 'suspendeu', 'tenazes', 'alumiou', 'emagrecem', 'conhecê-la', 'ajoelhado', 'ousar', 'temíamos', 'avisá-la', 'verificamo-lo', 'agonia', 'crueldade', 'minuciosa', 'repisada', 'outiva', 'petrificada', 'trazia-lhe', 'amplificações', 'retórica', 'professores', 'aleivosa', 'sócrates', 'orgulhosa', 'catão', 'dolorida', 'contraída', 'boquiaberta', 'carinhosa', 'imaculada', 'trateada', 'mordida', 'tenaz', 'incongruente', 'insano', 'passemos', 'xxiv', 'prostrado', 'compêndio', 'trivialidade', 'presunção', 'oprimira', 'debruçara', 'inexplicável', 'faltava-me', 'cabeleireiro', 'módena', 'cabeleireiros', 'demorada', 'enfadava', 'intercalava', 'penteadelas', 'pulhas', 'ensinado', 'decorei-lhe', 'fórmulas', 'vocabulário', 'esqueleto', 'tratei-a', 'latim', 'embolsei', 'horácio', 'morais', 'tratei-os', 'jurisprudência', 'colhi', 'fraseologia', 'casca', 'ornamentação', 'espante', 'exponho', 'realço', 'advirta', 'cobiças', 'obrigam', 'trapos', 'rasgões', 'remendos', 'estender', 'revelações', 'embaçar', 'embaça-se', 'poupa-se', 'hediondo', 'fosso', 'lantejoulas', 'despregar-se', 'despintar-se', 'desafeitar-se', 'estranhos', 'judicial', 'pisamos', 'território', 'estenda', 'examine', 'julgue', 'exame', 'julgamento', 'incomensurável', 'ui', 'escorregar', 'enfático', 'sejamos', 'travei', 'torcer', 'obedecer-lhe', 'comerciava', 'gêneros', 'estiva', 'labutava', 'perseverança', 'encaracolar', 'suíças', 'renunciei', 'desabotoar', 'cheiro', 'inebriante', 'tamarineiro', 'cabisbaixo', 'jururu', 'dizemos', 'galinhas', 'apertava', 'taciturna', 'decora', 'guarda-a', 'examina-a', 'chegares', 'ignoras', 'sutis', 'caçava', 'atoar', 'vadia', 'faminta', 'pingando', 'velavam', 'recomendei', 'deixassem', 'sacudir-me', 'restituir-me', 'aplacara', 'arvoredo', 'reagia', 'camisas', 'meditações', 'gravatas', 'fechá-lo', 'mudara', 'roxa', 'situada', 'embarque', 'boquejava', 'misteriosamente', 'escândalos', 'dessem', 'nenhumas', 'estreitas', 'existiam', 'acabei', 'vestiu', 'defunta', 'ignorava', 'prestado', 'ponderação', 'devia-lhe', 'determinei', 'fazê-la', 'xxvi', 'hesita', 'olá', 'recebi-o', 'conforma-te', 'conformei', 'beijei-lhe', 'almoçado', 'almoçamos', 'reclusão', 'passagem', 'recair', 'pêsames', 'havê-la', 'leu-ma', 'agradecer', 'digo-te', 'projetos', 'cavá-las', 'desdizia', 'fraqueou', 'repetiu-a', 'encareceu', 'urso', 'ursos', 'casam-se', 'traga-me', 'ursa', 'ursa-maior', 'deduziu', 'volubilidade', 'ilustrando-as', 'pedi-la', 'experimentou', 'persuasão', 'afiava', 'palito', 'bolas', 'refletir', 'fragilidade', 'afeições', 'de-fi-ni-ti-va', 'bebeu', 'repoltreou-se', 'senado', 'restauração', 'evaristo', 'mata-cavalos', 'desvairadamente', 'verso', 'triângulo', 'repetia-os', 'maquinalmente', 'sai-me', 'despeitado', 'chama-se', 'assistir', 'atrevida', 'voluntariosa', 'coubesse', 'primazia', 'mocinhas', 'sobredoura', 'sardas', 'espinhas', 'maculasse', 'sarda', 'espinha', 'fins', 'faceira', 'ignorante', 'misteriosos', 'preguiça', 'fores', 'vierem', 'reparas', 'rabugento', 'exprimi-la', 'indiscreta', 'ignorantona', 'restaurar', 'instabilidade', 'caniço', 'errata', 'estação', 'corrigida', 'editor', 'xxviii', 'pateta', 'azougue', 'declarei', 'examinar', 'separadamente', 'sentenciosamente', 'saberás', 'dilação', 'imitando-lhe', 'empenhos', 'continuá-lo', 'ilustrá-lo', 'hesitar', 'teme', 'foge', 'estragues', 'mágico', 'agitar', 'recolheu-se', 'xxix', 'vencera', 'virgílias', 'assomo', 'aceitei-os', 'reconhecia', 'desces', 'despediu-se', 'desceu', 'repreender', 'jardineiro', 'falar-me', 'desacanhou', 'cingir-me', 'robustos', 'brasinho', 'homenzarrão', 'entristecesse', 'percebeu-o', 'estudos', 'recordei-me', 'recordá-lo', 'ranger', 'farfalhar', 'xxx', 'pertenciam', 'mocinha', 'morena', 'deteve', 'constrangido', 'quebrou-o', 'cumprimenta', 'voltando-se', 'olhou-me', 'aproximou', 'desmanchara', 'emendou-se', 'dantes', 'folgares', 'diminuía', 'virginal', 'familiarizamos', 'fazia-lhe', 'elogios', 'escutava-os', 'sorria', 'fúlgidos', 'voar', 'borboletinha', 'esvoaçou', 'penetrou', 'praguejou', 'expeli', 'apertei-lhes', 'desinteressado', 'cumprimento', 'lisonjeei', 'xxxi', 'preparar-me', 'esvoaçar', 'pousou-me', 'sacudi-a', 'sacudisse', 'brando', 'posta', 'aborreceu', 'achando-a', 'farpinhas', 'apiedei-me', 'tomei-a', 'depô-la', 'expirou', 'consolou', 'reconciliou', 'almoçada', 'espairecendo', 'borboletices', 'cúpula', 'descreveu', 'infinitas', 'estatura', 'colossal', 'subjugou-a', 'aterrou-a', 'sugestivo', 'insinuou-lhe', 'criador', 'beijá-lo', 'beijou-me', 'enxotada', 'valeu', 'imensidade', 'pompa', 'verdes', 'linho', 'dizê-lo', 'laranja', 'segura', 'atravessasse', 'uni', 'polegar', 'próvidas', 'formigas', 'xxxii', 'preparativos', 'detenha', 'sensaboria', 'empulhação', 'convidar-me', 'transferir', 'era-lhe', 'devida', 'desataviou-se', 'bichas', 'pendiam', 'recortadas', 'ninfa', 'cassa', 'broche', 'madrepérola', 'punhos', 'fechando', 'pulseira', 'claras', 'chãs', 'exatamente', 'glosar', 'mostrar-lhe', 'esgotamos', 'coxeava', 'machucara', 'mandei-me', 'desastrado', 'grosseirão', 'possibilidade', 'chegara-se', 'reparei', 'apagar', 'desazo', 'confessara', 'árvores', 'patos', 'lavar', 'comentando', 'soslaio', 'perscrutava', 'coxo', 'tranqüilos', 'turvados', 'fitavam-me', 'temeridade', 'biocos', 'xxxiii', 'lúcidos', 'senhoril', 'resolve', 'sacudi-lo', 'enxotei', 'adejava', 'bichinho', 'cavar', 'explicá-lo', 'chovendo', 'transferi', 'límpida', 'manhãs', 'frescas', 'convidativas', 'chamar-me', 'vênus', 'manca', 'realçar', 'enlevo', 'queria-lhe', 'singela', 'espúria', 'vigiava-nos', 'temperava', 'entregava-me', 'desce', 'pretendo', 'desça', 'versículo', 'evangelho', 'tomara', 'furtado', 'arrebatado', 'candidamente', 'devedor', 'paga', 'soubesses', 'vagavam', 'bem-vindo', 'esposo', 'inesperadamente', 'apanhasse', 'concertar', 'infinita', 'tartufice', 'estudado', 'xxxiv', 'lêem', 'agastada', 'tremer', 'chame', 'diana', 'injúria', 'merecia', 'lavada', 'lavasse', 'tablado', 'sacro', 'piegas', 'louçã', 'desgrenhada', 'farsa', 'autos', 'bufonerias', 'pandemônio', 'barafunda', 'rosa', 'esmirna', 'arruda', 'quintal', 'cleópatra', 'tirita', 'cruzavam-se', 'atmosfera', 'beija-flor', 'lesma', 'castiga', 'xxxv', 'sussurrou', 'at', '\\x93levanta-te', 'origens', 'ante', 'candura', 'desposá-la', 'segunda-feira', 'anunciar-lhe', 'dizer-lhe', 'engolindo', 'alcancei-a', 'hipérboles', 'acredita-me', 'retê-la', 'império', 'amargurado', 'abraçar', 'xxxvi', 'agradecimento', 'reticência', 'deitei-me', 'entrávamos', 'bem-aventurança', 'considerei', 'venturas', 'azo', 'mortifica', 'desgraçado', 'desmortifica-os', 'sapateiros', 'epicuro', 'lançava', 'aleijadinha', 'perder-se', 'tardaria', 'descalçou-as', 'rápido', 'inefável', 'incoercível', 'sucede', 'pungente', 'inferi', 'engenhoso', 'deparar', 'calos', 'aperfeiçoam', 'terrestre', 'curtas', 'descalçaste', 'manquejando', 'perna', 'enterros', 'laboriosa', 'comparsa', 'xxxvii', 'prévio', 'conversando', 'confessei-lhe', 'criaturinha', 'rara', 'casasses', 'públicos', 'desesperando', 'legítima', 'apresentou', 'estimável', 'desmentiu', 'panegírico', 'juro-vos', 'relede', 'xxxviii', 'lembra-vos', 'sabei', 'emendada', 'inçada', 'descuidos', 'barbarismos', 'encadernação', 'dadas', 'consulto', 'empoeirado', 'bexiguento', 'destruíam-lhe', 'terríveis', 'sinais', 'saliências', 'encarnas', 'declives', 'aclives', 'lixa', 'enormemente', 'repugnante', 'mudou', 'ruço', 'poento', 'fulgia-lhe', 'crê-lo-eis', 'pósteros', 'conheceu-me', 'dirigi', 'chisparam', 'trocaram', 'esconder-se', 'instinto', 'acomodou-se', 'hesitou', 'decidir', 'levara', 'desastres', 'escalavraram', 'ajudou', 'adiantando-lhe', 'decadência', 'deixara-lhe', 'ourivesaria', 'buscada', 'singularidade', 'dirigir', 'dizer-lha', 'secamente', 'atonia', 'reflete', 'relembra', 'terça', 'interrogando', 'ardia', 'neles', 'flama', 'souberam', 'ver-lha', 'viu-me', 'saindo', 'desculpe-me', 'pungido', 'ansiava', 'deu-lhe', 'mandou-o', 'proteção', 'casasse', 'afiançou', 'usou', 'desconfiar', 'recado', 'negociava', 'roedor', 'disseram', 'xxxix', 'vizinho', 'passou-a', 'podido', 'vesti-la', 'vara', 'marmelo', 'pamonha', 'ensina-lhe', 'padre-nosso', 'ave-maria', 'oferecidos', 'pedir-me', 'humilde', 'oferecê-los', 'beijando-a', 'deitar-me', 'interrogativo', 'suspeitoso', 'parecem', 'tremor', 'espraiou', 'xl', 'custava', 'moedinha', 'dobre', 'travado', 'amanhecera', 'repetiu-me', 'antecipação', 'rimo-nos', 'lacera', 'beija', 'interroga', 'cortado', 'pressas', 'ordenei', 'rodasse', 'atiçou', 'bestas', 'sacolejar-me', 'gemiam', 'rodas', 'sulcavam', 'rapidamente', 'parado', 'morno', 'abafadiço', 'rodomoinha', 'abate', 'afrouxa', 'soprava', 'achar-me', 'almejava', 'uê', 'xli', 'alucinação', 'apressado', 'humor', 'nublada', 'surda', 'sequidão', 'esperávamos', 'defendi-me', 'empacara', 'detivera', 'morre-me', 'tolhido', 'olhá-la', 'tinham-lhe', 'rosada', 'aparecia-me', 'estigmada', 'devastara', 'travessos', 'olhei-a', 'chamei-a', 'enganava', 'repulsa', 'alvitre', 'absurdo', 'encaminhei-me', 'florida', 'encarava', 'seguiram-se', 'estalido', 'estátua', 'soerguendo', 'pontinha', 'contraindo', 'unir', 'média', 'arrebique', 'mágoa', 'dissimula', 'dói', 'padecesse', 'dobro', 'xlii', 'dá-se', 'rola', 'encontra', 'transmite-lhe', 'suposição', 'recebendo', 'impulsiva', 'esbarrar', 'tocam', 'extremos', 'estabelece', 'poderemos', 'solidariedade', 'xliii', 'angélico', 'simpático', 'cesariano', 'precedeu', 'influências', 'derrota', 'comparou', 'elegeu', 'pata', 'átila', 'esterilizava', 'xliv', 'desenlace', 'castelos', 'engenhara', 'tantíssimos', 'esboroados', 'galho', 'informado', 'graduada', 'repetia-me', 'passageira', 'vigília', 'despeitozinho', 'desfez', 'murros', 'leituras', 'truncadas', 'tranqüila', 'pancada', 'precisamente', 'complicou', 'dores', 'contínua', 'reumatismos', 'tosses', 'visitou', 'grato', 'concentração', 'uz', 'lampejo', 'cabia', 'maio', 'médicos', 'xlv', 'armada', 'veludo', 'vestir', 'medida', 'tocheiros', 'convidados', 'apertavam', 'sérios', 'rezas', 'aspersões', 'prego', 'tomam', 'levantam', 'colocam', 'traspassam', 'apertam', 'correias', 'carros', 'xlvi', 'veja-nos', 'encostado', 'morder', 'custou', 'custar', 'segue', 'valesse', 'deseja', 'fale', 'levantando', 'deixe-se', 'erguendo-se', 'podemos', 'amizade', 'lisura', 'acudi', 'libertou', 'falado', 'josé', 'i', 'vetustez', 'bisavô', 'acho-lhe', 'copa', 'apresentável', 'recebe', 'peguei', 'interpretou', 'aquiescência', 'agradeceu-mo', 'redargüi', 'cede', 'abanei', 'sumário', 'citar-nos', 'colherinha', 'agastado', 'conciliação', 'caberia', 'bule', 'açucareiro', 'teríamos', 'liquidar', 'pretensão', 'propôs', 'jantamos', 'presenciou', 'altercação', 'lembrem-se', 'manteiga', 'engulo', 'partilhas', 'custou-me', 'fúrias', 'risos', 'adulta', 'dividimos', 'irmãmente', 'irmãos', 'esvaiu', 'xlvii', 'fundir', 'ata', 'veste-lhe', 'sórdido', 'estira-te', 'embalou', 'cheirar', 'toucador', 'cuides', 'regalo', 'n', 'z', 'u', 'maiúsculas', 'embalaram', 'fica-te', 'retratos', 'esvaiu-se', 'passei-a', 'buliçoso', 'apático', 'literatura', 'artigos', 'polemista', 'futura', 'xlviii', 'privava', 'agradavam', 'valiam', 'sanção', 'confirmasse', 'interrogava', 'deleitava-se', 'arremetia', 'juvenilmente', 'publicava', 'girar', 'aprovasse', 'produção', 'falava-lhe', 'catete', 'discussão', 'câmaras', 'cavalos', 'respondia-me', 'animação', 'abria', 'perguntava-me', 'empacava', 'desanimá-lo', 'eliminá-lo', 'xlix', 'valeste', 'meditaste', 'obscuros', 'atinei', 'bastou-me', 'gasta', 'finca', 'embeleza-se', 'aprende', 'desvincula-se', 'dissolve-se', 'eteriza-se', 'sublimação', 'pertence', 'subordinação', 'sociedades', 'narizes', 'contemplassem', 'exclusivamente', 'durar', 'extinguia-se', 'tribos', 'obtuso', 'entraste', 'vidraças', 'ostentam-se', 'entram', 'fregueses', 'compara', 'buscados', 'mortifica-se', 'indagar', 'causas', 'prosperidade', 'atraso', 'fixam', 'capitais', 'multiplica', 'subordina', 'procriação', 'l', 'prima', 'tipografia', 'plancher', 'reconheci', 'encontrei-a', 'ornara', 'salões', 'desornava', 'aproximação', 'conversamos', 'conchegar', 'flexível', 'roubado', 'acabamos', 'constipar-se', 'literários', 'pensados', 'esmeros', 'reunião', 'íntima', 'valsar', 'valsista', 'emérito', 'preferisse', 'francesca', 'apertei-lhe', 'deixou-a', 'esquecida', 'abraçá-la', 'abraçavam', 'giravam', 'foi-se-me', 'entranhando', 'verruma', 'insinuativa', 'arroubos', 'possessórios', 'luziu-me', 'abaixei-me', 'repeti', 'rir-me', 'meti-a', 'recordando', 'ganhara', 'operário', 'anúncio', 'enviei', 'remetendo-lhe', 'rogando-lhe', 'devolvê-lo', 'jubiloso', 'sufocada', 'respiração', 'ventilai', 'consciências', 'despido', 'balsâmico', 'abriu-mo', 'multiplicando-se', 'quinhentas', 'exprimindo', 'espraiava', 'revia-me', 'hem', 'valsado', 'poucochinho', 'estabeleci', 'compensar', 'continuamente', 'entendas', 'concreta', 'lii', 'tropecei', 'tropeção', 'pontapé', 'limpo', 'corretamente', 'barbante', 'bater-lhe', 'experiência', 'relanceei', 'deserta', 'brincavam', 'pescador', 'curava', 'redes', 'apalpei-o', 'desandei', 'guiei', 'assaltou-me', 'testemunha', 'garoto', 'guinchar', 'apupar', 'cacarejar', 'lenços', 'goiabas', 'podres', 'aguçada', 'desfiz', 'recontei', 'asseadinho', 'arranjadinho', 'embrulhei-as', 'ter-me-iam', 'espreitado', 'interroguei-os', 'discretamente', 'examinei', 'maternais', 'instara', 'freqüentar', 'recepções', 'fui-lhe', 'apresentado', 'remetera', 'aventou', 'acertou', 'análoga', 'impaciência', 'histérica', 'quietinhos', 'secretária', 'lance', 'perdem', 'tabaco', 'levam-se', 'apalpam-se', 'tiram', 'perderem', 'tolamente', 'desonra', 'embaciasse', 'acerto', 'ganhos', 'merecida', 'empregá-los', 'dote', 'receberam', 'delicadas', 'alusões', 'espalhada', 'estrondo', 'louvaram-me', 'encolerizasse', 'replicaram-me', 'liii', 'concentrada', 'nascem', 'tardias', 'pecas', 'daquelas', 'seiva', 'folhuda', 'exuberante', 'bosques', 'abotoou-se', 'portão', 'uniu-nos', 'rematavam', 'desabrochavam', 'paciente', 'sistemática', 'cóleras', 'desesperos', 'engolia', 'tona', 'fastio', 'liv', 'estirei-me', 'usualmente', 'tique-taque', 'soturno', 'vagaroso', 'imaginava', 'sacos', 'dá-las', 'corda', 'invenções', 'transformam', 'acabam', 'mesmas', 'morrem', 'definitivo', 'gasto', 'exata', 'tumultuavam-me', 'devotas', 'abalroam', 'anjo-cantor', 'procissões', 'ganhados', 'ardiloso', 'saltou', 'saudaram-se', 'rolarmos', 'necessitados', 'repetirem', 'lv', 'lvi', 'breca', 'vimo-nos', 'tratamos', 'desfizemo-lo', 'houvera', 'mordeu-me', 'correm', 'damos', 'giros', 'oportunidade', 'sujeitos', 'queixava', 'tenazmente', 'galanteava', 'estremeci', 'provocado', 'grandeza', 'vindo', 'lvii', 'no-lo', 'impediam', 'achávamo-nos', 'jungidos', 'encontrou', 'purgatório', 'di', 'pari', 'buoi', 'che', 'vanno', 'giogo', 'comparando-nos', 'bois', 'tardo', 'velhaco', 'caminhar', 'assustou', 'entreguei', 'andarás', 'procurador', 'humanos', 'estejas', 'amar-nos', 'explicaríamos', 'momentos', 'murmurando', 'amo-te', 'igrejas', 'fervor', 'nessas', 'tapava', 'resmoneava', 'catecismo', 'oratoriozinho', 'talha', 'tachava', 'beatas', 'religiosas', 'desconfiei', 'flanela', 'preservativa', 'lviii', 'metia-me', 'adorasse', 'sólidas', 'amorável', 'escancarada', 'carcoma', 'animei-o', 'unção', 'tédios', 'desfalecimentos', 'engolidas', 'sopitadas', 'tecido', 'despeitos', 'intrigas', 'perfídias', 'vaidades', 'combatê-la', 'replicou-me', 'reuni', 'faltou-me', 'cenário', 'representação', 'escriturei-me', 'fatigar', 'amofinações', 'constância', 'parecendo', 'rir-se', 'desculpe', 'referisse', 'recebeu-os', 'postiça', 'afortunado', 'chasqueava', 'lix', 'enérgico', 'barbonos', 'afetuosamente', 'rútila', 'bizarro', 'bernardes', 'achar-lhe', 'atração', 'correrias', 'travessuras', 'refrescava', 'sentar-me', 'encaminhar-se', 'desconhecida', 'conhecia-a', 'babilônia', 'contemporâneo', 'gessler', 'literalmente', 'brilho', 'pêlo', 'desaparecia', 'primitivos', 'botões', 'brim', 'pardo', 'joelheiras', 'bainhas', 'roídas', 'tacão', 'graxa', 'flutuavam', 'desmaiadas', 'apertando', 'colarinho', 'escura', 'verbo', 'solene', 'bossuet', 'vieira', 'desolação', 'esquálida', 'pintada', 'maltrapilho', 'avelhentado', 'suportava', 'firmeza', 'arredei', 'repelia', 'acabrunhava', 'contar-lhe', 'atribulações', 'lembra-se', 'figurava', 'trambolhão', 'resignado', 'golpes', 'resignação', 'cristã', 'conformidade', 'calejara', 'andrajos', 'púrpura', 'indolente', 'procure-me', 'arranjar-lhe', 'angu', 'carteira', 'escolhi', 'dei-lha', 'recebeu-ma', 'cintilantes', 'agitou-a', 'entusiasmado', 'hoc', 'signo', 'vinces', 'ruidosa', 'entendeu-me', 'grotescamente', 'bote', 'trabalhando', 'enjoado', 'preparei-me', 'ensinar', 'escarranchando-se', 'lx', 'cuidei', 'pulso', 'senti-lhe', 'pruridos', 'examinar-me', 'compare', 'sapatos', 'pudera', 'atalhou', 'virmos', 'dê-me', 'permita-me', 'agradecer-lhe', 'evitá-lo', 'entristecer-me', 'separa', 'meto', 'desilusão', 'furtara-mo', 'lxi', 'furto', 'reminiscências', 'sopa', 'refugiar-me', 'opressões', 'tornara-me', 'abjeto', 'achá-los', 'surgiu-me', 'encontrá-lo', 'enchia-me', 'bem-estar', 'lxii', 'tépido', 'aromático', 'enfronhado', 'bruxelas', 'repousar', 'más', 'enfadonhas', 'dolorosas', 'pesadas', 'bastaram', 'olvidar', 'escrófula', 'existas', 'molestes', 'lxiii', 'instasse', 'noto', 'esquisitices', 'trata-me', 'durmo', 'matar', 'tranqüilizei-a', 'nervosa', 'trocáramos', 'frouxamente', 'empunhara', 'binóculo', 'lobrigava', 'liame', 'tolhesse', 'embriagou-me', 'eliminados', 'habitação', 'anjos', 'proponho-te', 'amas-me', 'oh', 'cingindo-me', 'fúria', 'patente', 'úmida', 'namorar-lhe', 'insaciável', 'possuíra', 'figuras', 'pentélico', 'rasgado', 'estátuas', 'apática', 'cálidas', 'podia-se', 'resumia', 'resumia-o', 'mudamente', 'deslacei-lhe', 'fito', 'coragem', 'roça', 'haja', 'perigos', 'vivamos', 'estarás', 'perdida', 'matarei', 'interrompi-me', 'empalidecera', 'vacilante', 'escolha', 'fui-me', 'insisti', 'escaparíamos', 'matava-me', 'buscá-la', 'rufar', 'chamou-me', 'tremas', 'leitora', 'descansa', 'rubricar', 'lauda', 'pingo', 'apressadamente', 'derramando', 'trocou', 'jovialidade', 'tomou-o', 'levantou-o', 'beijou-o', 'preguiçosamente', 'aturei', 'maçadas', 'sentara-se', 'compôs-lhe', 'destoava', 'consultou', 'toilette', 'ópera', 'janta', 'confirmou', 'possui', 'bebe', 'desmenti-o', 'bebi', 'excitado', 'teologia', 'despedi-me', 'levantamos', 'lxiv', 'transação', 'vaguei', 'recolhi-me', 'atirei-me', 'arrependido', 'consultei', 'vestir-me', 'julguei', 'aborrecer-se', 'sucessivamente', 'desesperado', 'esquecê-la', 'matá-la', 'nus', 'fascinando', 'leite', 'bandos', 'brilhantes', 'luzidios', 'doía-me', 'despi-la', 'despenteá-la', 'sôfregas', 'lascivas', 'vermelhos', 'dirá', 'cachorro', 'beijei-as', 'rebentaram-lhe', 'argüir', 'argüi-la', 'necessariamente', 'dissensões', 'metida', 'escondida', 'ingênuo', 'preguiçoso', 'cuida', 'derreava', 'candidez', 'desatou', 'atrair', 'recalcava', 'perdia-se', 'sussurrei-lhe', 'apaziguou-a', 'deixo', 'irá', 'mate-me', 'ouvi-la', 'ouçam', 'insânia', 'provinha', 'sorrimos', 'tornávamos', 'escusa', 'lxv', 'interrompeu-nos', 'consultou-me', 'mete', 'admirou-me', 'brasileiras', 'enxaqueca', 'apresse-se', 'certidão', 'batismo', 'arrependi-me', 'saído', 'desconfiavam', 'macia', 'porte', 'espiando-os', 'reclinava-se', 'desembainhava', 'olhavam', 'gesticulavam', 'astúcia', 'pálpebras', 'pestanas', 'rótulas', 'remexendo', 'cangalho', 'invernos', 'chupado', 'amarelado', 'teimosa', 'luziam', 'espreitar', 'contando', 'apresentar', 'mostravam', 'apresentação', 'exultava', 'curava-me', 'denunciasse', 'gamenhos', 'fâmulos', 'desforravam', 'constituía', 'floresta', 'resvalar', 'tática', 'maciez', 'cobras', 'lxvi', 'iam-me', 'insensivelmente', 'jantava', 'deliberadamente', 'andado', 'merecimento', 'cabe', 'abençoadas', 'trate', 'tinha-vos', 'zangava-me', 'fatigáveis', 'podíeis', 'deixáveis', 'avoaçar', 'galinha', 'atada', 'deixastes', 'dissestes', 'levá-lo', 'dividamos', 'tomemos', 'abalroe', 'carroças', 'tire', 'chegue', 'cumpristes', 'risca', 'vosso', 'amáveis', 'obriga', 'imortalizar-vos', 'lxvii', 'caixa', 'ornada', 'fitinhas', 'abri-a', 'desconfiam', 'esqueça-me', 'veremos', 'esqueça-se', 'comentado', 'fugirmos', 'ligadas', 'arranjemos', 'caiada', 'venezianas', 'tijolo', 'trepadeira', 'convencionamos', 'conhecida', 'costureira', 'exercia', 'aceitaria', 'adormecer', 'resguardar', 'decoro', 'tapete', 'traziam', 'constantemente', 'freqüentes', 'inimigo', 'resgatava-me', 'terminaria', 'baronesas', 'lxviii', 'interrompeu-mas', 'ajuntamento', 'vergalhava', 'praça', 'atrevia', 'únicas', 'vergalhada', 'cala', 'besta', 'replicava', 'libertara', 'deteve-se', 'fez-te', 'vadio', 'perdoa-lhe', 'manda', 'cochichava', 'conjeturas', 'fraco', 'torvo', 'faca', 'gaiato', 'pancadas', 'recebidas', 'transmitindo-as', 'montava-o', 'punha-lhe', 'desancava-o', 'sofria', 'desagrilhoado', 'desbancava', 'comprou', 'ia-lhe', 'pagando', 'quantias', 'sutilezas', 'lxix', 'faz-me', 'ouvida', 'chiste', 'contada', 'transferido', 'romualdos', 'prudêncios', 'lxx', 'voltemos', 'envelheceu', 'enegreceu', 'apodreceu', 'proprietário', 'deitou-a', 'substituí-la', 'alexandre', 'telhado', 'andorinhas', 'neutralidade', 'lancha', 'costa', 'dorme', 'sofreu', 'eclesiástico', 'assassino', 'ferreiro', 'abençoarão', 'designou', 'idôneas', 'dispô-las', 'intuição', 'estética', 'suposta', 'respeitos', 'custou-lhe', 'farejara', 'doía-lhe', 'falava-me', 'carrancuda', 'angariá-la', 'ofendido', 'tratava-a', 'obtive', 'patética', 'toques', 'rejeitou', 'aceitou-as', 'sogra', 'pecúlio', 'achados', 'lxxi', 'arrepender-me', 'canse', 'magros', 'distrai', 'cadavérica', 'envelhecer', 'amas', 'nutrida', 'fluente', 'guinam', 'andam', 'param', 'resmungam', 'urram', 'gargalham', 'ameaçam', 'escorregam', 'misérrimas', 'cipreste', 'vistosas', 'dar-vos-ia', 'lxxii', 'suprima', 'parecida', 'grisalho', 'inclina-se', 'relê', 'treslê', 'desengonça', 'saca', 'examina-as', 'espaneja-as', 'esfrega-as', 'lava-as', 'dicionários', 'biográficos', 'pardieiro', 'alfarrabista', 'comprou-o', 'indagou', 'pesquisou', 'esgaravatou', 'amais', 'padeceis', 'sabeis', 'adivinhais', 'coroa', 'índias', 'papado', 'museus', 'almanaque', 'laemmert', 'continua', 'inclinado', 'lente', 'áspera', 'relate', 'houver', 'contenta-se', 'mira-o', 'remira-o', 'chega-se', 'mostra-o', 'passa-lhe', 'estira-se', 'folheia', 'lxxiii', 'solavancos', 'indecorosa', 'refeições', 'fazíamos', 'patuscada', 'luncheon', 'fruta', 'comíamos', 'virgulado', 'palavrinhas', 'ternos', 'criancices', 'apartes', 'ininterrupto', 'arrufo', 'nímio', 'adocicado', 'refugiava-se', 'denguices', 'reatávamos', 'reato', 'desatá-la', 'gostaria', 'pegando-lhe', 'olhou-a', 'molharem-se-lhe', 'acariciou-a', 'deixei-lhe', 'lxxiv', 'arrependas', 'rendeu-me', 'achasse', 'travamos', 'ralava', 'trabalhos', 'compatíveis', 'alfaiate', 'deixando-lhe', 'sustentar', 'cosia', 'afinco', 'ensinava', 'iam-se', 'apareceram-lhe', 'seduções', 'encontrar', 'pretendentes', 'conseguiu', 'fazer-se', 'despediu-o', 'despedir', 'coser', 'escumar', 'rabugem', 'mortificava', 'maridos', 'vêm', 'fidúcias', 'rica', 'camarada', 'arranja', 'moços', 'policarpo', 'jurou-me', 'queimando', 'fogão', 'candeeiro', 'emagreceu', 'adoeceu', 'enterrou-a', 'subscrição', 'quatorze', 'fraquinha', 'rondavam', 'imensos', 'levando-a', 'costuras', 'arregalava', 'piscava', 'convencida', 'graçolas', 'interrompeu-se', 'fugiu-me', 'costurando', 'mostrou-me', 'gretadas', 'picadas', 'protegeu', 'esmola', 'calafrio', 'inconveniência', 'desdizer-se', 'chamar-se', 'tola', 'pulado', 'observo', 'lê-lo', 'ajudando', 'colaboradora', 'viu-a', 'inteiras', 'pisou-lhe', 'acender', 'altares', 'acercaram-se', 'amaram-se', 'conjunção', 'luxúrias', 'vadias', 'autores', 'chamastes', 'sacristã', 'responderiam', 'chamamos-te', 'queimar', 'faina', 'adoecendo', 'sarando', 'adoecer', 'sarar', 'desesperada', 'resignada', 'chamamos', 'lxxvi', 'acusou-me', 'obrigando-a', 'privações', 'concubina', 'baixado', 'dinheiros', 'replicasse', 'aproveitara', 'exercida', 'ex-costureira', 'caras', 'silêncios', 'vencê-la', 'repuxou-me', 'concordei', 'aleguei', 'abrigo', 'mendicidade', 'deduzir', 'impede', 'cheirosa', 'sã', 'lxxvii', 'sossegada', 'envolvida', 'mantéu', 'disfarçava', 'ondulações', 'talhe', 'escarlate', 'lisonjeado', 'acabado', 'cronométrico', 'tresloucado', 'constituir-se', 'feixe', 'raios', 'casamentos', 'faltado', 'alta', 'antevéspera', 'derramada', 'descobriu', 'ameaçadora', 'tomou-me', 'levou-me', 'povoada', 'queixou', 'ouvi-a', 'custava-me', 'contei-lhe', 'eternas', 'pasmados', 'semi-aberta', 'arqueadas', 'visível', 'tangível', 'confundiu', 'pancadinha', 'repetir', 'enganara', 'lxxviii', 'ocupar', 'empalidecer', 'gostaste', 'agrada', 'insistiu', 'causava', 'necessidades', 'pedem', 'brasões', 'sou-o', 'ponhas', 'desorientada', 'consolá-la', 'aceitou', 'levantei-me', 'largamente', 'pequenina', 'responsável', 'encostar-me', 'fronteiro', 'ouvíamos', 'latir', 'deixadas', 'desesperança', 'lançaria', 'ampararia', 'compeli-la', 'desampará-la', 'prorromper', 'enxugar', 'subjuguei-me', 'lxxix', 'vacilava', 'empuxava', 'supunhamos', 'resolverá', 'sentido', 'investiam', 'resistiam', 'tenacidade', 'dentezinho', 'abusava', 'culpada', 'sacrificar', 'irresoluto', 'inquieto', 'desejoso', 'receoso', 'compartir', 'conciliar', 'sugestão', 'padecimento', 'lxxx', 'sentiu', 'encontraram', 'dificuldades', 'locais', 'resoluções', 'esperançado', 'olhava-me', 'ordenado', 'obsequiar-me', 'serpente', 'encarei', 'imperiosamente', 'oculto', 'franco', 'salpicada', 'presidenta', 'resolver', 'administrativo', 'lxxxi', 'insanamente', 'haveria', 'façamos', 'pazes', 'acabando', 'estendendo-lhe', 'sentei-a', 'mostrar-ma', 'consentisse', 'gorda', 'afável', 'olhávamos', 'seguras', 'ressurgia', 'loura', 'fileiras', 'encurvadas', 'deixavam-me', 'suportei', 'zangarrear', 'clássica', 'rabeca', 'fanhosa', 'secos', 'apanhei-a', 'espantada', 'empurrava-me', 'mãozinha', 'quebrando', 'aparece-me', 'lancei-me', 'efusão', 'promessa', 'jantarmos', 'troca', 'concordaram', 'senso', 'meter', 'chinelo', 'comparasse', 'triunfos', 'concerto', 'louvores', 'deixa-se', 'objetou', 'reprimiu-a', 'enigmático', 'lxxxii', 'descerem', 'tropel', 'afetuosas', 'dizer-lhes', 'reconciliava-me', 'tratando', 'aparelhar', 'ânimos', 'realizar', 'desígnios', 'repeti-o', 'boatos', 'batiam-me', 'escultura', 'referia-se', 'rasgada', 'fê-la', 'cirurgião', 'grulha', 'noventa', 'gentileza', 'ancião', 'surpresa', 'latinista', 'traduz', 'confunda', 'rasteiro', 'frívolo', 'receosa', 'disfarçá-lo', 'olhavam-me', 'acabavam', 'novidade', 'fugitivo', 'palreiro', 'pegas', 'sintra', 'suave', 'explique', 'abotoado', 'desabotoou-se', 'lxxxiii', 'tirou-me', 'levando-me', 'perde-se', 'personagens', 'gazetas', 'farejarem', 'passam', 'imprimi-lo', 'virão', 'remoques', 'alcunhas', 'negasse', 'suporte', 'evite', 'azeite', 'recurvado', 'interrogação', 'dobrar-me', 'subjugá-la', 'diverso', 'separar-me', 'arranjo', 'opresso', 'desorientado', 'porteiro', 'cartão', 'ingresso', 'legislativo', 'abro', 'leio', 'decretos', 'nomeados', 'esqueceríamos', 'consolei-a', 'consolações', 'afligia-me', 'andorinha', 'vacilo', 'pedindo-lhe', 'referiu-lhe', 'significava', 'morrera', 'coetera', 'algarismo', 'alegar', 'dir-lhe-ia', 'assombrado', 'lxxxiv', 'conflito', 'lembras-te', 'abençoei', 'virgens', 'ruivas', 'abençoar', 'ruiva', 'crina', 'pelópidas', 'donosa', 'dou-ta', 'havida', 'donzelas', 'escapas', 'figurasse', 'salvação', 'convencido', 'escutei', 'minava', 'absorvia-se', 'metia-se', 'oprimiam-no', 'desasara', 'supersticioso', 'existia', 'duvidava', 'rejeitá-la', 'repugna', 'preferia', 'ingenuidade', 'perguntava-lhe', 'selos', 'disseram-lhe', 'contentava-se', 'apontar', 'tolera-se', 'gratuita', 'insuportável', 'acreditou', 'atribuiu', 'manejos', 'tratou-o', 'comunicou', 'colegas', 'sobrevieram', 'incidentes', 'resignatário', 'lxxxv', 'escapa', 'pique', 'avivar', 'droga', 'tornamos', 'saboroso', 'prezado', 'folgávamos', 'proporção', 'elástica', 'dilatando', 'semelhantes', 'achegam', 'fugíamos', 'apertando-nos', 'reatamos', 'sultana', 'scheherazade', 'máximo', 'divisamos', 'leste', 'oeste', 'repousado', 'começamos', 'encosta', 'lxxxvi', 'serra', 'mal-estar', 'ateimei', 'percorreu', 'rápida', 'chegarei', 'zéfiro', 'colheu-me', 'afagou-me', 'lxxxvii', 'sucedeu', 'abafados', 'desconjuntados', 'finos', 'espreitadores', 'amparasse', 'encobria-os', 'estrangulava-os', 'camada', 'rocha', 'areia', 'levou-lhas', 'observará', 'comparo', 'reparar', 'acrescento-lhe', 'países', 'lendo', 'altera', 'mereceriam', 'alongar', 'probo', 'medeiros', 'valadares', 'recorda', 'violentando', 'quatrocentos', 'cansativa', 'achássemos', 'pega', 'afirmando', 'rendeu', 'respiramos', 'respirados', 'negando-se', 'alegrando-se', 'justeza', 'desculpou-se', 'veracidade', 'incompatível', 'adiantado', 'paz', 'cidades', 'embaçadelas', 'recíprocas', 'tavares', 'lxxxviii', 'refutei', 'perniciosa', 'elementares', 'reparo', 'fictício', 'atordoar', 'escrupulosa', 'manifestava', 'cumulava', 'poderiam', 'render', 'codicilo', 'adulava-o', 'adulação', 'confunde-se', 'graciosamente', 'curvas', 'legítimo', 'adulado', 'enfermeira', 'feminil', 'hábil', 'carecerá', 'quid', 'desfazia', 'rindo', 'tirava-lhe', 'levava-o', 'conchegada', 'anciã', 'brisa', 'abri-la', 'combinando', 'fortezinho', 'bufava', 'repousando', 'subida', 'sentava-se', 'banquinha', 'introduzia', 'ampla', 'antiasmáticas', 'repetia-se', 'variantes', 'gostasse', 'cumpria-lhe', 'aturando-o', 'tarda', 'dando-lhe', 'dizer-se', 'légua', 'sentavam-se', 'tornavam', 'bisbilhotice', 'construir', 'residência', 'moderno', 'contemporânea', 'el-rei', 'cristóvão', 'casarão', 'substituído', 'encomendado', 'intervalado', 'arfagem', 'incômoda', 'curvo', 'investigava-o', 'plano', 'cachoeira', 'lxxxix', 'extremis', 'adoecera', 'fazer-lhe', 'tossia', 'arder', 'acessos', 'debatia', 'oferecia', 'exigia', 'instava', 'receia', 'trem', 'tolheu', 'acarinhou-o', 'travesseiros', 'ofereceu-lhe', 'escrivaninha', 'borracha', 'prendia', 'deslaçasse', 'fi-lo', 'construção', 'carpinteiro', 'pintor', 'gabinetes', 'ferragens', 'terreno', 'pedia-me', 'lesse', 'dobradiças', 'francesas', 'lida', 'tossidas', 'golfadas', 'migalhas', 'pulmão', 'desfeito', 'órbitas', 'fundas', 'rolavam', 'lampejantes', 'lençol', 'desenhava-se', 'estrutura', 'óssea', 'pontudo', 'amarelada', 'bamba', 'rugosa', 'revestia', 'carapuça', 'algodão', 'cobria-lhe', 'crânio', 'rapado', 'arfar', 'suspeitara', 'alteando', 'ahn', 'aproximou-se', 'sentiu-a', 'acheguei-me', 'cálice', 'quaren', 'expirava', 'xc', 'testamentária', 'pastilha', 'malogro', 'insinuei-lhe', 'lorpa', 'cainho', 'tirado', 'interessava', 'conflitos', 'revoluções', 'terremotos', 'assomos', 'conversávamos', 'futuras', 'mãozinhas', 'gordas', 'rasos', 'lousa', 'mamava', 'valsava', 'interminável', 'limites', 'colegial', 'esquecia-me', 'sacudia-me', 'reprochava-me', 'xci', 'tomei-lhe', 'restituir-lho', 'voulez-vous', 'monseigneur', 'fígaro', 'misère', 'caducas', 'envergo', 'abas', 'perdiam', 'fruto', 'descreve', 'zenon', 'estoicismo', 'receita', 'espantoso', 'retifica', 'suprime', 'assegura', 'enche', 'país', 'chamo-lhe', 'enfatuação', 'chamar-lhe', 'borbismo', 'denominação', 'vaidosa', 'molesta', 'monumento', 'fazer-me', 'apanhado', 'esquivas', 'pesquisas', 'descobertas', 'joaquim', 'boceta', 'gravadas', 'reli-a', 'jactanciosa', 'excluir', 'abastança', 'devolvera-lhe', 'reaver', 'integralmente', 'regeneração', 'esperei', 'xcii', 'extraordinárias', 'procurou', 'meão', 'convidando-me', 'portador', 'desacordo', 'regente', 'serviram', 'baralhadas', 'consegui', 'organizar', 'preferências', 'alhures', 'penachos', 'opinava', 'tráfico', 'africanos', 'joana', 'kettly', 'suíça', 'gostara', 'deperini', 'safo', 'ana', 'bolena', 'papa-fina', 'piano', 'involami', 'levantando-se', 'cantarolando', 'mimosa', 'ansioso', 'embarcaria', 'enjoara', 'irem', 'inglaterra', 'fazer-nos', 'encontrasse', 'godemes', 'patriotismo', 'descendia', 'pé-rapado', 'canoa', 'faltaria', 'levei-o', 'parou', 'simpatizava', 'casara', 'conheceu', 'direitas', 'dançara', 'fechei-lhe', 'xciii', 'suplício', 'familiarmente', 'compensava-a', 'soberbos', 'arrancarem', 'comia', 'cantou', 'esquivei-me', 'falta-lhe', 'pérolas', 'casmurro', 'maduro', 'bater-me', 'pomba', 'intimativa', 'resoluta', 'ameaças', 'xciv', 'sozinha', 'aborreciam-lhe', 'antecipadas', 'carícias', 'sagrada', 'âmbula', 'divina', 'deixava-a', 'incógnito', 'projetando-se', 'restituíra', 'enganava-me', 'parecera', 'reservas', 'preocupada', 'invento', 'prender-me', 'oprimi-la', 'mentia', 'parto', 'gravidez', 'imaginariamente', 'calafrios', 'patíbulo', 'complicava-se', 'forçada', 'dei-lho', 'repreendendo-a', 'direitos', 'xcv', 'esboroou-se', 'edifício', 'quimeras', 'distingue', 'laplace', 'tartaruga', 'acompanhou', 'médico', 'frustrada', 'encostei-me', 'verdejavam', 'laranjeiras', 'xcvi', 'tocar-me', 'encaramo-nos', 'mudos', 'inconsoláveis', 'trazer-lhe', 'leu-a', 'fechou-a', 'atirar-se', 'seguintes', 'taciturno', 'mostrou-lhe', 'restabeleceu', 'denunciava-nos', 'limitava-se', 'precavê-lo', 'intrépido', 'frágil', 'fitá-lo', 'sarcasticamente', 'escutara', 'perdoaria', 'mostrou-se', 'irritada', 'sem-ventura', 'citou', 'galanteara', 'escrevera', 'citava-os', 'estudando', 'tratar-me-ia', 'turbado', 'empregar', 'soalho', 'amargura', 'ocioso', 'ponderar-lhe', 'cáustico', 'artificiosamente', 'nervosamente', 'aproximei-me', 'xcvii', 'estremecer', 'sugeriu-lhe', 'quadro', 'inclinada', 'sentisse', 'xcviii', 'suprimido', 'reconciliado', 'pimenta', 'perdesse', 'representava-se', 'estela', 'arrancava', 'camarotes', 'trajava', 'ganhava', 'endividar-se', 'visitá-los', 'suavidade', 'etérea', 'polido', 'terrenas', 'condigna', 'trajando', 'garridamente', 'contemplá-lo', 'cobrindo', 'previu', 'vestidura', 'habitual', 'obras', 'tenderia', 'embotar', 'retardar', 'sexos', 'vestuário', 'negaceando', 'atrai', 'vontades', 'ativa-as', 'reprodu-las', 'abençoado', 'otelo', 'paquetes', 'transatlânticos', 'suprimir', 'declive', 'pacato', 'donzela', 'dupla', 'dualidade', 'jansenista', 'admitia', 'simultaneidade', 'juntinhas', 'decididamente', 'suprimo', 'xcix', 'constrangidos', 'encontramo-nos', 'corredores', 'afabilidade', 'assuntos', 'expansivo', 'fujo', 'atores', 'reclinado', 'refazia', 'bastava-nos', 'aguçaria', 'rigorosamente', 'dispensar-nos', 'galgara', 'eleitor', 'ufanar-se', 'cobicei', 'vingava', 'burburinhar', 'ésquilo', 'verdugos', 'cuidavas', 'encadear-me', 'rochedo', 'frivolidade', 'frágeis', 'cadeias', 'rompia-as', 'gulliver', 'ermo', 'voluptuoso', 'esquisito', 'insular-se', 'decretar-se', 'alheado', 'inacessível', 'recatado', 'afirmação', 'desdenhosa', 'c', 'desatentos', 'possuo', 'restrinjo-me', 'admissão', 'probabilidade', 'existe', 'periódica', 'marés', 'flamengo', 'marulhosas', 'investe', 'alaga-a', 'variável', 'engrossar', 'conseqüência', 'ojeriza', 'dissidência', 'cessação', 'convindo', 'limito-me', 'reconciliou-se', 'revoluçao', 'dálmata', 'viravolta', 'reuniões', 'derreou', 'moveu', 'desmentido', 'definível', 'atraí-la', 'desgostos', 'namorou', 'vero', 'transtornara', 'diplomática', 'chego', 'rebentasse', 'derrocou', 'purificou', 'embaixadas', 'sangrenta', 'transcreviam', 'horrores', 'mediam', 'fremia', 'abençoava', 'tirara', 'pedrinha', 'cii', 'alegrou', 'contá-lo', 'grosseira', 'ciii', 'perdoe-me', 'esbaforido', 'esperara', 'irritara', 'chorara', 'jurara', 'votar-me', 'pedindo-me', 'sacrificara', 'equívoco', 'suspirando', 'espiando', 'conchegava', 'bafejava', 'acalentava', 'manhas', 'fértil', 'aprazíveis', 'cresciam', 'restituir-lhe', 'esquecia', 'referia', 'presenciara', 'atribuir-me', 'falou', 'protesto', 'admoestação', 'dissipou', 'aleive', 'levar-lhe', 'baixei', 'tiverem', 'recearem', 'preferem', 'oitava', 'lusíadas', 'adotam', 'norma', 'atenho-me', 'exige', 'desculpas', 'derramara', 'atribuí', 'chorasse', 'desapontada', 'parecessem', 'duras', 'ameaçava-me', 'louvava', 'fincados', 'parando', 'expliquei', 'zangar-se', 'enfastiada', 'aborrece', 'agarrei-a', 'cintura', 'retive-a', 'meigas', 'humildes', 'graciosas', 'controversa', 'apanhá-lo', 'trepou', 'nativa', 'mortificados', 'calculei', 'mofino', 'concluis', 'enganas-te', 'insetos', 'farejou', 'civ', 'restituí', 'repregou', 'preparou-se', 'idônea', 'exclama', 'fechara', 'empurrou-me', 'voltasse', 'obedeceu', 'abriu-lhe', 'honrando', 'apareça', 'atirou-se', 'espreitava-os', 'buraco', 'fechadura', 'arrebatamento', 'circulou', 'cumprimentá-la', 'obrigada', 'acariciando-a', 'sente-se', 'dê', 'abriu-o', 'atava', 'fitas', 'tagarelava', 'aparecer', 'abriu-lhes', 'cv', 'deteve-me', 'detivesse', 'genuíno', 'cvi', 'atroava', 'lástimas', 'confirmaria', 'pólvora', 'cena', 'matá-la-ia', 'espancá-la-ia', 'encerrá-la-ia', 'expulsá-la-ia', 'interrogações', 'percorriam', 'pontinhos', 'vírgulas', 'percorrem', 'visual', 'cansados', 'trágico', 'enfiara', 'mantinha', 'oferecer-se-me', 'arriscado', 'desconfiaria', 'saberei', 'sucesso', 'possíveis', 'espairecer', 'canalizar', 'explorar', 'incapaz', 'torrencial', 'vi-me', 'adorável', 'sombria', 'espiarmos', 'nesga', 'cvii', 'fitar', 'passe', 'cviii', 'retalhinho', 'garatujado', 'machucado', 'farei', 'perspicácia', 'traçadas', 'dissimulada', 'constrange', 'medita', 'resolver-se', 'acreditai-o', 'duvidai', 'asserção', 'aceiteis', 'experimentei', 'complexa', 'podereis', 'cix', 'refeição', 'parcas', 'fatia', 'obliterada', 'praticá-lo', 'acomodava-se', 'inclusive', 'indicar', 'tendência', 'ascetismo', 'tolice', 'mantinha-se', 'engordar', 'emagrecer', 'farisaísmo', 'sinagoga', 'dispenso-me', 'descrever-lhe', 'diversa', 'característica', 'feições', 'vestuários', 'farda', 'negociante', 'notei-lhe', 'alvura', 'asseio', 'roufenha', 'restituída', 'sonoridade', 'gesticulação', 'viveza', 'sujeitava-se', 'descrevê-lo', 'iniciaria', 'descrição', 'omito', 'verniz', 'saibam', 'pares', 'barbacena', 'permitam-me', 'peteca', 'arremessado', 'recebia-o', 'rija', 'eficaz', 'situações', 'complexas', 'empuxar', 'desequilibrava-me', 'embrulhar', 'mandá-los', 'instrutiva', 'admirava-lhe', 'descrevia', 'interiores', 'capitulações', 'vagarosas', 'dormi-a', 'gradualmente', 'esteira', 'expor-me', 'preocupado', 'atendê-lo', 'malicioso', 'mergulhei', 'faziam-na', 'atinaram', 'subgregos', 'antigregos', 'tem-se', 'debruçado', 'gastaram', 'cordas', 'caçambas', 'afoitos', 'diretamente', 'cx', 'agarrei-me', 'datado', 'transposição', 'algarismos', 'diabólica', 'cxi', 'papelinho', 'dobrado', 'desagrado', 'descomunalmente', 'audaciosa', 'pensada', 'convidar', 'parceria', 'risota', 'imaginei-me', 'galgá-lo', 'agarrado', 'pedestre', 'comichões', 'rasgar', 'atirá-los', 'amor-próprio', 'diga-lhe', 'arregalou', 'achei-o', 'mirei-o', 'remirei-o', 'cxii', 'lances', 'dúbios', 'aproveitou', 'conhecido', 'ilharga', 'retraído', 'retraimento', 'temerário', 'tribunal', 'membro', 'acusa', 'julga', 'limite', 'atos', 'insto', 'separar-se', 'separado', 'arrastaria', 'abriria', 'inquérito', 'coligiria', 'antecedências', 'relataria', 'chácaras', 'desocupadas', 'terrível', 'obstou', 'desforço', 'divulgação', 'mostrar-se', 'ressentido', 'simular', 'ignorância', 'custasse', 'naqueles', 'custar-lhe', 'pensadores', 'caleja', 'sensibilidade', 'oblitera', 'despontassem', 'espinhos', 'apagasse', 'respectivos', 'ocupasse', 'crescendo', 'buscaria', 'satisfazer', 'herdeiro', 'atividade', 'prestígio', 'declínio', 'responso', 'biográfica', 'cxiii', 'domésticas', 'desenvolva', 'doméstica', 'metafísicos', 'biliosos', 'darem', 'extremado', 'salutares', 'superfina', 'cxiv', 'veria', 'tivermos', 'receberá', 'eleições', 'separemo-nos', 'custa-me', 'cxv', 'marcada', 'mista', 'misturado', 'doses', 'irrite', 'titilar-lhe', 'almoçar', 'romanesco', 'biográfico', 'acudindo', 'lembranças', 'lembrais', 'cozinheiro', 'famosos', 'véry', 'véfour', 'paris', 'palácios', 'molé', 'duque', 'rochefoucauld', 'tivoli', 'estrangeiros', 'cassino', 'deliciosos', 'adivinhara', 'catástrofe', 'propícios', 'requinte', 'temperos', 'tenrura', 'rebuscado', 'comia-se', 'enterrar', 'magnificamente', 'vazios', 'eflúvio', 'pediu', 'crepúsculo', 'cxvi', 'purgar', 'empacha', 'amostra', 'viuvez', 'fisgar', 'domiciano', 'fisgá-las', 'fisgava-as', 'estirado', 'devaneio', 'solto', 'primos', 'abalado', 'correio', 'selei', 'meti-as', 'carteiro', 'nasciam', 'agitava-me', 'gavetas', 'entornava', 'namoradas', 'recompunha', 'ignaro', 'guardas', 'conhecerás', 'gostarás', 'ver-te', 'penumbra', 'léguas', 'barbas', 'assírias', 'gaita', 'anacreôntica', 'apraz', 'empregarei', 'locução', 'guardares', 'marujos', 'entoadas', 'poética', 'exigir', 'cxvii', 'compeliam-me', 'agitada', 'encaminhou', 'impetuoso', 'expôs-me', 'arruinar', 'estática', 'dispersiva', 'contará', 'iniciando', 'sugeriu', 'personificada', 'desenvolveu-a', 'ligava-se', 'bramanismo', 'indiana', 'estreita', 'significação', 'rins', 'cultivar', 'músculo', 'hércules', 'antecipado', 'paganismo', 'amesquinhado', 'mitos', 'acontecerá', 'fáceis', 'sacerdócio', 'reprodução', 'prefira', 'segue-se', 'galanteio', 'nascer', 'contigo', 'batata', 'reduzido', 'adorar-se', 'contempla', 'moralista', 'grego', 'turco', 'troveje', 'acordo', 'campos', 'iduméia', 'preconceitos', 'esquece', 'retóricas', 'rafadas', 'estuda', 'fundamentalmente', 'oposto', 'sejam', 'algoz', 'condenado', 'excitar', 'clamor', 'estripa', 'obsta', 'estripado', 'entendeste', 'belicosos', 'adequados', 'clareza', 'superiormente', 'suspender', 'digeria', 'trincava-a', 'objeções', 'frouxas', 'gastou', 'destruí-las', 'resumido', 'disséssemos', 'chupava', 'filosoficamente', 'submete', 'nutriu-se', 'milho', 'plantado', 'importado', 'angola', 'cresceu', 'vendido', 'construído', 'madeira', 'cortada', 'velas', 'teceram', 'cordoalha', 'náutico', 'executados', 'mate', 'demonstrou-me', 'ameaçada', 'espancada', 'treme', 'predisposição', 'base', 'transmitida', 'adoção', 'compenetre', 'milhares', 'leu-me', 'volumes', 'manuscritos', 'citações', 'compunha-se', 'tratado', 'fundado', 'concebida', 'reorganizada', 'eliminadas', 'insurreição', 'murro', 'facada', 'doenças', 'supostos', 'equívocos', 'passariam', 'externos', 'destinados', 'impediria', 'radicalmente', 'correspondessem', 'destruído', 'criadora', 'delícia', 'sacrificar-se', 'descende', 'diminuiria', 'brisas', 'tâmaras', 'ruibarbo', 'cxviii', 'incapacidade', 'atraía-me', 'namorava-me', 'aparecido', 'agitar-me', 'cxix', 'parênteses', 'parêntesis', 'bocejos', 'epígrafe', 'discursos', 'suporta-se', 'cólica', 'matamos', 'enterra', 'diminuto', 'andassem', 'duvides', 'botocudo', 'fure', 'beiço', 'enfeitá-lo', 'irrites', 'pagarem', 'cxx', 'percorreu-me', 'celibata', 'próprias', 'tênues', 'compradas', 'troco', 'aliança', 'depositasse', 'internos', 'declarou-me', 'animou-me', 'apólogo', 'evangélico', 'prenúncio', 'erradamente', 'interpretado', 'padres', 'cxxi', 'maravilha', 'impulsos', 'levavam', 'matrimônio', 'terna', 'angélica', 'deitara', 'acompanhava-os', 'habitações', 'palacete', 'lépidos', 'basta-lhes', 'achamos', 'percebeu', 'alvoroçado', 'jaqueta', 'metidos', 'sobrecasacas', 'esfrangalhadas', 'diversas', 'cócaras', 'apoiadas', 'sentados', 'encostados', 'fixos', 'debruçadas', 'pupilas', 'calasse', 'sutilmente', 'tinha-lhes', 'esporão', 'cristas', 'desplumado', 'rubro', 'invadia-os', 'lutavam', 'vibrantes', 'raivosos', 'concentrara-se', 'puxou', 'fôssemos', 'desabitado', 'disse-lhes', 'guarda-sol', 'segurei-o', 'inclinei-o', 'ajuntei', 'osculou', 'sopé', 'detivemo-nos', 'rodeado', 'comentar', 'distribuía', 'vencedores', 'recebiam', 'duplamente', 'sobraçados', 'respectivo', 'ensangüentada', 'esfalfados', 'biografavam', 'relembravam', 'proezas', 'vexadíssima', 'cxxii', 'metera', 'afinidades', 'temer', 'sogro', 'estudava-se', 'estudava-me', 'polida', 'atraía-a', 'observava', 'imitava', 'adivinhava', 'dava-se', 'mascarar', 'inferioridade', 'entristeceu', 'diverti-la', 'dizendo-lhe', 'chanças', 'bom-tom', 'vãos', 'alegravam', 'expressivo', 'positiva', 'afinidade', 'cxxiii', 'harmonia', 'seriamente', 'supor-lhe', 'louvasse', 'prendas', 'calava-se', 'consultasse', 'apreciava', 'fartava', 'elogiar', 'respeita', 'aconselhar', 'lavo', 'celibato', 'remora', 'voto', 'fazendo-lhe', 'confidências', 'carnal', 'excessivo', 'souber', 'ferozmente', 'seguiram', 'reconheço', 'argüiam-no', 'cuide', 'exageração', 'orçamentos', 'acusá-lo', 'alegado', 'calabouço', 'escorrer', 'perversos', 'fujões', 'contrabandeado', 'habituara-se', 'duro', 'requeria', 'honestamente', 'índole', 'pios', 'encontrava-se', 'irrefutável', 'confraria', 'irmandades', 'remido', 'coaduna', 'irmandade', 'juiz', 'mandara-lhe', 'óleo', 'perfeito', 'repreensível', 'louvável', 'concordo', 'desculpava-se', 'contagiosas', 'intuito', 'publicidade', 'tornava-se', 'sine', 'qua', 'non', 'cxxiv', 'compusesse', 'padeceria', 'danoso', 'refugia', 'pinturesca', 'cxxv', 'jaz', 'damascena', 'brito', 'dezenove', 'orai', 'cxxvi', 'desconsolação', 'narrasse', 'febre', 'jazigo', 'excessos', 'inadvertência', 'doeu-me', 'cegueira', 'matando', 'jovem', 'mortes', 'epidemias', 'úteis', 'desastrosas', 'indivíduos', 'horrendo', 'sobrevivência', 'perguntar-me', 'encanto', 'garras', 'peste', 'castigara', 'aumentada', 'infligiram', 'quartas', 'acompanharam', 'perdas', 'desculpar', 'desatenção', 'abanava', 'desampararam-me', 'interessam', 'viriam', 'falariam', 'inércia', 'panacéias', 'boticários', 'viessem', 'cxxvii', 'partícula', 'dom', 'psíquica', 'agradeço', 'lembraria', 'representando', 'constantinopla', 'modernas', 'trajos', 'tapada', 'tenuíssimo', 'simulava', 'descobria', 'esperteza', 'faceirice', 'muçulmana', 'divulga', 'negues', 'rígida', 'companheira', 'bordão', 'bálsamo', 'enxugas', 'captas', 'profeta', 'adormece', 'acomoda', 'corteja', 'deixa-lhe', 'controvérsia', 'cxxviii', 'notai', 'discutia', 'comissão', 'encarecer', 'recostado', 'colega', 'sobrecarta', 'trouxe-nos', 'botelhas', 'devendo', 'conter', 'suspensiva', 'dubitativa', 'condicional', 'continha', 'possuísse', 'incluía', 'química', 'decompor', 'concludente', 'tróia', 'adversário', 'químicos', 'ovante', 'ouvem-se', 'ganha-se', 'cxxx', 'cap', 'gorgorão', 'ostentava', 'formosura', 'outoniça', 'realçada', 'aludir', 'subentendia-se', 'ventriloquismo', 'perdoem-me', 'filólogos', 'bárbara', 'oração', 'cxxxi', 'ventríloquo-cerebral', 'voltei-me', 'despejado', 'hein', 'reintegrado', 'salta', 'ameaçando-o', 'indiscretas', 'retificar', 'noção', 'negavam', 'monossilábico', 'parceiras', 'jurariam', 'evangelhos', 'entrega-se', 'amor-paixão', 'romanas', 'polinésias', 'lapônias', 'cafres', 'civilizadas', 'culta', 'conjuga', 'refiro-me', 'defesos', 'refinar', 'aleivosia', 'sentindo-se', 'vencedor', 'ríspido', 'basta-me', 'perdem-se', 'desastradas', 'saberem', 'empregou', 'algures', 'descobrir-se', 'cachorrinho', 'adestrado', 'alfim', 'ouçamos', 'cxxxii', 'citando', 'arrufada', 'costuma', 'secretas', 'cxxxiii', 'arrancou', 'emendo', 'confirmar', 'sopitado', 'entendendo-se', 'masculina', 'segurança', 'desvanecimento', 'íntimo', 'reflexivo', 'silogismo', 'espontâneo', 'instintivo', 'recôndito', 'cxxxiv', 'digo-o', 'tocava', 'capeada', 'devemos', 'empregarmos', 'restante', 'terei', 'enfiou', 'dançar', 'embriagar-me', 'bonitos', 'ligeiro', 'remocei', 'retirei', 'teimosos', 'tolhidos', 'reumáticos', 'cochilando', 'morcego', 'escarapitado', 'tejadilho', 'rejuvenescência', 'cxxxv', 'seguido', 'extinguiu-se', 'invalidez', 'versaletes', 'dêem', 'honras', 'personagem', 'desprezado', 'conviva', 'sabe-o', 'luziu', 'dolorosamente', 'ostentou', 'paraná', 'acha-se', 'sente', 'busca', 'saudação', 'encetavam', 'tempora', 'mutantur', 'farrapos', 'lastima', 'apeadas', 'estribeiro', 'divertir', 'cxxxvi', 'inutllidade', 'cxxxvii', 'resume', 'elevado', 'tino', 'bradou-me', 'escorregando', 'ladeira', 'vapores', 'dominar', 'palerma', 'sucessão', 'choramigas', 'deita', 'incessante', 'acomoda-te', 'aproveitá-la', 'vê-se', 'menores', 'tiveram', 'condão', 'façamo-nos', 'intervindo', 'debates', 'cortejava', 'rapapés', 'chás', 'comissões', 'votos', 'apoderar-me', 'discutindo-se', 'julgava', 'demonstrei', 'citei', 'filopémen', 'ordenou', 'substituição', 'broquéis', 'tropas', 'lanças', 'demasiado', 'leves', 'desmentisse', 'barretinas', 'deselegantes', 'anti-higiênicas', 'paradas', 'excesso', 'hipócrates', 'obrigar', 'conseqüentemente', 'anteparo', 'chamado', 'serviço', 'gratuito', 'freqüente', 'penoso', 'diminuísse', 'ônus', 'decretando', 'maneiro', 'acrescia', 'abatia', 'levantar-se', 'altiva', 'chorão', 'inclina', 'galhos', 'palmeira', 'praças', 'rapto', 'eloqüente', 'disseram-me', 'conseguira', 'considerada', 'deplorável', 'achavam', 'parlamentar', 'oposicionistas', 'insinuar', 'moção', 'repeli', 'errônea', 'caluniosa', 'notoriedade', 'sustentava', 'transigiria', 'extensão', 'contentando-me', 'polegada', 'adotada', 'bastava-me', 'tê-la', 'iniciado', 'restrição', 'salientes', 'comedimento', 'impugnou', 'convencendo-me', 'cxxxviii', 'aches', 'incompreensível', 'sabendo-se', 'chamo', 'envelhece', 'experimento', 'correspondente', 'cxxxix', 'cxl', 'calando', 'entendê-lo', 'ambiciosos', 'malogrados', 'inculcam', 'iam-se-me', 'filosóficas', 'amofina', 'toucados', 'queima', 'chegam', 'equivalia', 'desacato', 'desculpou', 'trouxeram-nos', 'bronze', 'acentuar', 'risinho', 'sarcasmo', 'ladrão', 'chalaça', 'pendia', 'gaiola', 'chilreavam', 'rústicas', 'conspiração', 'alumiado', 'curar-me', 'cxli', 'pretendes', 'vazia', 'parapeito', 'envergonhado', 'distrair-me', 'convidou-me', 'filosofando', 'fechavam', 'cumpria-me', 'elevada', 'retemperar-se', 'calão', 'funda', 'magnífica', 'lutes', 'carne', 'mordiam-se', 'êxtase', 'arrancá-lo', 'arraigado', 'cessou', 'mordido', 'contivesse', 'alimento', 'disputam', 'manjares', 'apetecíveis', 'complica', 'inteligência', 'acúmulo', 'cxlii', 'disputar', 'brandura', 'disputá-la', 'lógico', 'voluntariamente', 'comem-se', 'precursor', 'ezequiel', 'ruim', 'comível', 'preferi-lo', 'exaltação', 'modificável', 'entramos', 'discrição', 'lombada', 'metê-la', 'correta', 'assinatura', 'rabisco', 'alfabética', 'atribuir-lhe', 'autoria', 'revirei', 'deixado', 'avôs', 'sobraçada', 'ignora-o', 'disputa', 'limita', 'dura', 'acaba', 'consciente', 'imodéstia', 'inferior', 'cxliii', 'relia', 'mastigava', 'engolir', 'fitava', 'botou-os', 'comeu-os', 'toca', 'morre-se', 'maçada', 'cxliv', 'conselheira', 'vencidas', 'urge', 'pagá-las', 'envolto', 'molambos', 'estendido', 'nauseabundo', 'fi-la', 'transportar', 'minto', 'específica', 'tivessem', 'interrompidos', 'quebrados', 'efervescência', 'convenho', 'cxlv', 'canteiro', 'fingiu-se', 'enamorado', 'logrou', 'espertar-lhe', 'vendeu', 'fugiu', 'cxlvi', 'aperfeiçoava', 'assentamos', 'referência', 'exigiu', 'autógrafa', 'reservada', 'aplicados', 'tirados', 'inédito', 'programas', 'prometia', 'destruir', 'abusos', 'defender', 'sãos', 'apelo', 'lavoura', 'citava', 'guizot', 'ledru-rollin', 'professamos', 'inevitavelmente', 'obra-prima', 'demonstrei-lhe', 'saturada', 'guerras', 'contenda', 'soldados', 'sabiam', 'acontece', 'aplicar', 'substituir', 'recuarei', 'mundos', 'posterior', 'cxlvii', 'começaria', 'oposicionista', 'redigido', 'fraternidade', 'gloriosos', 'entra-me', 'transtornado', 'afetando', 'dissuadir-me', 'colocar-me', 'trancar', 'viveria', 'indispô-lo', 'afeiçoados', 'meditara', 'linha', 'propor-lhe', 'pense', 'camorote', 'trouxe-me', 'mendigar', 'adequado', 'afiancei', 'empregaria', 'cortês', 'enérgica', 'especiaria', 'paladar', 'leque', 'alternadamente', 'desenganada', 'lançou-me', 'invejosas', 'siga', 'cumprimos', 'cxlviii', 'publiquei', 'militasse', 'dividia', 'indireta', 'reprovava', 'capacidades', 'promover', 'esfreguei-os', 'inoportuna', 'insólita', 'enigmática', 'acham', 'fazem', 'declarações', 'obrigados', 'fazê-las', 'intrusão', 'agressão', 'lhanas', 'benévolas', 'arsenal', 'pontualidade', 'enxovalhar', 'cometer', 'destempero', 'cxlix', 'estudá-lo', 'problemas', 'censura', 'rejeitou-a', 'conclusões', 'beneficiador', 'cessada', 'apertado', 'demasia', 'desabotoas', 'respiras', 'saboreias', 'lembras', 'praticaram', 'havendo', 'esvaeça', 'aérea', 'favores', 'sublimes', 'usando', 'continuada', 'repercute', 'aconselha', 'precaução', 'aconteça', 'persistir', 'aberrações', 'repliquei', 'obsequiador', 'explicasses', 'retorquiu', 'exerce', 'dedutivamente', 'recebe-se', 'complacência', 'coçam', 'rejeitar', 'coçar', 'indício', 'remira-se', 'irradiação', 'admiráveis', 'cl', 'empresa', 'ciclo', 'inteiro', 'encheu-me', 'coroou-me', 'lepidez', 'nutre', 'efêmeras', 'alimenta', 'parasitas', 'nítida', 'astronômica', 'duplo', 'desiguais', 'júpiter', 'compõe', 'ministerial', 'boato', 'mortuária', 'féretro', 'soluçar', 'abraçou-se', 'tirá-la', 'levá-la', 'digo-vos', 'pá', 'baque', 'estremecimento', 'desagradável', 'chumbo', 'cli', 'grupos', 'fingindo', 'civilizada', 'pio', 'induz', 'mortos', 'vala', 'parece-lhes', 'podridão', 'clii', 'acendi', 'charuto', 'cerimônia', 'traíra', 'chorava-o', 'trajeto', 'apeando-me', 'suspeitei', 'taxa', 'colhe', 'repreenderá', 'implacável', 'recebeste', 'pontualmente', 'cliii', 'patético', 'dormi', 'sonhei', 'credo', 'pensado', 'transferisse', 'cantuária', 'petrópolis', 'cálculos', 'eliminaria', 'jazer', 'questões', 'insolúveis', 'solúveis', 'atenda', 'arcebispos', 'bula', 'bondade', 'comunicar-me', 'incutiu-me', 'geralmente', 'fundamento', 'crença', 'popular', 'filósofos', 'alheios', 'mínimas', 'conhecia-o', 'aterrado', 'houve-se', 'habilidade', 'despedindo-se', 'animou', 'sorrindo', 'terão', 'enganou-se', 'distraia', 'reconheceu', 'advertência', 'grãozinho', 'rejeitasse', 'cliv', 'entrados', 'pobretão', 'cuba', 'diógenes', 'imaginária', 'dracmas', 'hélade', 'atenas', 'jurar', 'possuiu', 'mentalmente', 'patachos', 'jura', 'sacudindo', 'escancarara', 'alçara', 'devassara', 'ricamente', 'alfaiada', 'clv', 'entrem', 'maníacos', 'paragens', 'clvi', 'divergiu', 'pode-se', 'observações', 'tomadas', 'regido', 'cocheiros', 'empertigados', 'solicitude', 'obedece', 'variações', 'freguesia', 'cabal', 'engraxar', 'clvii', 'lançando-lhe', 'demência', 'denunciando-lhe', 'denúncia', 'reconciliei', 'oportuna', 'pesava-me', 'convidado', 'filiar-me', 'temporariamente', 'anexar', 'litúrgica', 'cristianismo', 'mendigos', 'religiões', 'orçam', 'êmulo', 'nirvana', 'buda', 'paralíticos', 'verás', 'final', 'reconstituição', 'aniquilamento', 'chamam', 'filiei-me', 'exerci', 'cargos', 'recompensas', 'economia', 'mostrasse', 'subjetivo', 'jurei', 'prendessem', 'psicologia', 'quadros', 'aborrecida', 'doentes', 'recebê-la', 'recebia-a', 'reflexo', 'clviii', 'encontros', 'donativo', 'acabarei', 'adivinhem', 'cortiço', 'distribuir', 'reconhecer-me', 'baixou', 'receberia', 'estendi-lhe', 'capitalista', 'cortejou-me', 'expirar', 'clix', 'partira', 'entrou-me', 'demente', 'aperfeiçoar', 'queimara', 'manuscrito', 'recomeçá-lo', 'juras', 'sabes', 'sair-me', 'descoberto', 'complicava', 'sabia-o', 'recitava-me', 'antífonas', 'litanias', 'reproduzir', 'dança', 'sacra', 'inventara', 'lúgubre', 'levantava', 'fantástica', 'amuava-se', 'fulgurava', 'persistente', 'jurando', 'caluniado', 'supôs', 'clx', 'mediaram', 'narrados', 'darias', 'eras', 'inspiração', 'ficais', 'alcancei', 'celebridade', 'faltas', 'coube-me', 'somadas', 'míngua', 'quite', 'achei-me', 'transmiti']\n"
          ]
        }
      ]
    },
    {
      "cell_type": "markdown",
      "source": [
        "**O que se pode inferir?**\n",
        "\n",
        "**R:** Há muitos hapax em ambos os textos. No próximo código vamos notar também muitos hapax em comuns."
      ],
      "metadata": {
        "id": "4kTRmlB8DbHb"
      }
    },
    {
      "cell_type": "markdown",
      "source": [
        "* Quais são os hápax legômena em comum nos dois textos? "
      ],
      "metadata": {
        "id": "c3lfxLR76_Ag"
      }
    },
    {
      "cell_type": "code",
      "source": [
        "#usando conceitos próprios\n",
        "def concordanciador(hapax1, hapax2):\n",
        "  hapax_comum = []\n",
        "  for x in hapax1:\n",
        "    if x in hapax2:\n",
        "      hapax_comum.append(x)\n",
        "  return hapax_comum\n",
        "\n",
        "resultados = concordanciador(hapax_machado, hapax_ubirajara)\n",
        "print(resultados)"
      ],
      "metadata": {
        "colab": {
          "base_uri": "https://localhost:8080/"
        },
        "id": "azUgpb5t6U2E",
        "outputId": "4a10bd2a-83d6-48ac-e533-ba0d24f7d177"
      },
      "execution_count": null,
      "outputs": [
        {
          "output_type": "stream",
          "name": "stdout",
          "text": [
            "['postas', 'encontrado', 'recordava', 'proferiu', 'beira', 'trôpego', 'destroços', 'falas', 'plantou', 'colheu', 'arrebatando', 'vivem', 'acolhia', 'preparar', 'pó', 'dominou', 'suspeito', 'animais', 'chama-me', 'assustes', 'conheço', 'devorado', 'velozes', 'clamando', 'travou-lhe', 'narrar', 'confundir', 'vestidos', 'materna', 'viveu', 'vencidos', 'afeto', 'achou-se', 'pedir', 'repetido', 'cravar', 'frutas', 'cantar', 'esperando', 'lento', 'segredos', 'sereno', 'querias', 'enfeitado', 'caçar', 'inclinou', 'chamavam', 'subir', 'pastar', 'desviar', 'disseste', 'soltos', 'vens', 'comprida', 'seguir', 'arredores', 'erguia', 'passavam', 'reunisse', 'esquerdo', 'disparou', 'dourado', 'fonte', 'perseverança', 'apertava', 'caçava', 'roxa', 'bebeu', 'chama-se', 'vencera', 'aproximou', 'sorria', 'consolou', 'formigas', 'preparativos', 'pendiam', 'pulseira', 'mostrar-lhe', 'apagar', 'arrebatado', 'esconder-se', 'decidir', 'deu-lhe', 'proteção', 'beija', 'tocam', 'galho', 'fale', 'levantando', 'cede', 'irmãos', 'gasta', 'finca', 'aprende', 'durar', 'preferisse', 'receberam', 'seiva', 'transformam', 'mesmas', 'morrem', 'houvera', 'grandeza', 'botões', 'escura', 'haja', 'descansa', 'derramando', 'brilhantes', 'dirá', 'irá', 'cabe', 'vosso', 'ornada', 'trepadeira', 'conhecida', 'aceitaria', 'fraco', 'torvo', 'andorinhas', 'dorme', 'sofreu', 'ofendido', 'sustentar', 'chamar-se', 'disfarçava', 'escarlate', 'quebrando', 'troca', 'suporte', 'andorinha', 'salvação', 'semelhantes', 'percorreu', 'reparar', 'tarda', 'prendia', 'espantoso', 'parou', 'direitas', 'sagrada', 'mudos', 'taciturno', 'mostrou-se', 'empregar', 'inclinada', 'sangrenta', 'restituir-lhe', 'referia', 'levar-lhe', 'preparou-se', 'voltasse', 'obedeceu', 'dê', 'aparecer', 'medita', 'refeição', 'arremessado', 'rija', 'cordas', 'agarrado', 'rasgar', 'abriria', 'mostrar-se', 'pediu', 'rins', 'reduzido', 'contempla', 'condenado', 'clamor', 'milho', 'terna', 'pupilas', 'cristas', 'observava', 'adivinhava', 'harmonia', 'voto', 'souber', 'seguiram', 'jovem', 'bordão', 'continha', 'salta', 'bonitos', 'sente', 'saudação', 'chamado', 'serviço', 'chegam', 'cessou', 'disputam', 'dura', 'fitava', 'toca', 'transportar', 'defender', 'sabiam', 'cometer', 'nutre', 'abraçou-se', 'colhe', 'verás', 'partira', 'eras']\n"
          ]
        }
      ]
    },
    {
      "cell_type": "code",
      "source": [
        "#usando conceitos do autor\n",
        "hapax_em_comum = [x for x in hapax_machado if x in hapax_ubirajara]\n",
        "print(hapax_em_comum)"
      ],
      "metadata": {
        "colab": {
          "base_uri": "https://localhost:8080/"
        },
        "id": "Vnj7V2Z-xHOU",
        "outputId": "bb9458a1-94f6-4cd1-df6a-5593aa3e628e"
      },
      "execution_count": null,
      "outputs": [
        {
          "output_type": "stream",
          "name": "stdout",
          "text": [
            "['postas', 'encontrado', 'recordava', 'proferiu', 'beira', 'trôpego', 'destroços', 'falas', 'plantou', 'colheu', 'arrebatando', 'vivem', 'acolhia', 'preparar', 'pó', 'dominou', 'suspeito', 'animais', 'chama-me', 'assustes', 'conheço', 'devorado', 'velozes', 'clamando', 'travou-lhe', 'narrar', 'confundir', 'vestidos', 'materna', 'viveu', 'vencidos', 'afeto', 'achou-se', 'pedir', 'repetido', 'cravar', 'frutas', 'cantar', 'esperando', 'lento', 'segredos', 'sereno', 'querias', 'enfeitado', 'caçar', 'inclinou', 'chamavam', 'subir', 'pastar', 'desviar', 'disseste', 'soltos', 'vens', 'comprida', 'seguir', 'arredores', 'erguia', 'passavam', 'reunisse', 'esquerdo', 'disparou', 'dourado', 'fonte', 'perseverança', 'apertava', 'caçava', 'roxa', 'bebeu', 'chama-se', 'vencera', 'aproximou', 'sorria', 'consolou', 'formigas', 'preparativos', 'pendiam', 'pulseira', 'mostrar-lhe', 'apagar', 'arrebatado', 'esconder-se', 'decidir', 'deu-lhe', 'proteção', 'beija', 'tocam', 'galho', 'fale', 'levantando', 'cede', 'irmãos', 'gasta', 'finca', 'aprende', 'durar', 'preferisse', 'receberam', 'seiva', 'transformam', 'mesmas', 'morrem', 'houvera', 'grandeza', 'botões', 'escura', 'haja', 'descansa', 'derramando', 'brilhantes', 'dirá', 'irá', 'cabe', 'vosso', 'ornada', 'trepadeira', 'conhecida', 'aceitaria', 'fraco', 'torvo', 'andorinhas', 'dorme', 'sofreu', 'ofendido', 'sustentar', 'chamar-se', 'disfarçava', 'escarlate', 'quebrando', 'troca', 'suporte', 'andorinha', 'salvação', 'semelhantes', 'percorreu', 'reparar', 'tarda', 'prendia', 'espantoso', 'parou', 'direitas', 'sagrada', 'mudos', 'taciturno', 'mostrou-se', 'empregar', 'inclinada', 'sangrenta', 'restituir-lhe', 'referia', 'levar-lhe', 'preparou-se', 'voltasse', 'obedeceu', 'dê', 'aparecer', 'medita', 'refeição', 'arremessado', 'rija', 'cordas', 'agarrado', 'rasgar', 'abriria', 'mostrar-se', 'pediu', 'rins', 'reduzido', 'contempla', 'condenado', 'clamor', 'milho', 'terna', 'pupilas', 'cristas', 'observava', 'adivinhava', 'harmonia', 'voto', 'souber', 'seguiram', 'jovem', 'bordão', 'continha', 'salta', 'bonitos', 'sente', 'saudação', 'chamado', 'serviço', 'chegam', 'cessou', 'disputam', 'dura', 'fitava', 'toca', 'transportar', 'defender', 'sabiam', 'cometer', 'nutre', 'abraçou-se', 'colhe', 'verás', 'partira', 'eras']\n"
          ]
        }
      ]
    },
    {
      "cell_type": "markdown",
      "source": [
        "# Capítulo 3"
      ],
      "metadata": {
        "id": "E6PNZpgI7VWW"
      }
    },
    {
      "cell_type": "markdown",
      "source": [
        "## Exercício 1 - Modifique o classificador de mensagens implementado neste capítulo, tornando-o mais exigente na classificação de uma mensagem como spam. \n",
        "Concretamente, modifique a implementação, de modo\n",
        "que o **resultado da classificação seja spam apenas quando o score atribuído** a esse rótulo **seja pelo menos o dobro do score atribuído ao rótulo não-spam.**"
      ],
      "metadata": {
        "id": "famwJ7V07flU"
      }
    },
    {
      "cell_type": "code",
      "source": [
        "spams = 0\n",
        "nao_spams = 0\n",
        "em_spams = defaultdict(int)\n",
        "em_nao_spam = defaultdict(int)\n",
        "vocab = set()\n",
        "\n",
        "#extração de atributos\n",
        "def atributos(mensagem):\n",
        "  palavras = mensagem.split()\n",
        "  lixo = '123456789.,:;?!\"`()[]{}\\/|-#$%^&*'\n",
        "  quase_limpo = [x.strip(lixo).lower() for x in palavras]\n",
        "  palavras = [x for x in quase_limpo if x.isalpha() or '-' in x]\n",
        "  return set(palavras)\n",
        "\n",
        "try:\n",
        "  corpus_treino = open('/content/drive/MyDrive/Estudos do livro (Para conhecer Linguística Computacional)/corpus_bruto.txt', 'r')\n",
        "except:\n",
        "  from google.colab import drive \n",
        "  drive.mount('/content/drive')\n",
        "\n",
        "for dado in corpus_treino:\n",
        "  classe = dado[0]\n",
        "  texto = dado[2:]\n",
        "  palavras = atributos(texto)\n",
        "  vocab |= palavras\n",
        "  if classe == '1':\n",
        "    spams += 1\n",
        "    for x in palavras:\n",
        "      em_spams[x] += 1\n",
        "  elif classe == '0':\n",
        "    nao_spams += 1\n",
        "    for x in palavras:\n",
        "      em_nao_spam[x] += 1\n",
        "\n",
        "corpus_treino.close()\n",
        "\n",
        "#suavilização do classificador\n",
        "k = 1\n",
        "\n",
        "p_spam = (spams + 2 * k) / (spams + nao_spams + 4 * k)\n",
        "\n",
        "p_nao_spam = (nao_spams + 2 * k) / (spams + nao_spams + 4 * k)\n",
        "\n",
        "#probabilidades suavizadas\n",
        "def p_em_spam(palavra):\n",
        "  return (em_spams[palavra] + k) / (spams + 2 * k)\n",
        "\n",
        "def p_em_nao_spam(palavra):\n",
        "  return (em_nao_spam[palavra] + k) / (nao_spams + 2 * k)\n",
        "\n",
        "#classificador das mensagens\n",
        "def classificar(mensagem):\n",
        "  score_spam = p_spam\n",
        "  score_nao_spam = p_nao_spam\n",
        "\n",
        "  for palavra in vocab:\n",
        "    if palavra in atributos(mensagem):\n",
        "      score_spam *= p_em_spam(palavra)\n",
        "      score_nao_spam *= p_em_nao_spam(palavra)\n",
        "    else:\n",
        "      score_spam *= 1 - p_em_spam(palavra)\n",
        "      score_nao_spam *= 1 - p_em_nao_spam(palavra)\n",
        "\n",
        "    if score_spam > score_nao_spam * 2: #o valor de score_spam é pelo menos (maior que) o dobro do score não spam\n",
        "      return 'spam'\n",
        "    else:\n",
        "      return 'nao spam'\n",
        "\n",
        "msg1 = 'viagra com bom preço: entregamos em seu consultório'\n",
        "classificar(msg1)"
      ],
      "metadata": {
        "colab": {
          "base_uri": "https://localhost:8080/",
          "height": 35
        },
        "id": "nY9whrq5-Q7W",
        "outputId": "a8ad915b-5076-4a60-ad8d-afb5b9716345"
      },
      "execution_count": null,
      "outputs": [
        {
          "output_type": "execute_result",
          "data": {
            "text/plain": [
              "'spam'"
            ],
            "application/vnd.google.colaboratory.intrinsic+json": {
              "type": "string"
            }
          },
          "metadata": {},
          "execution_count": 35
        }
      ]
    },
    {
      "cell_type": "markdown",
      "source": [
        "##Exercicio 2 - Implemente novamente esse classificador de mensagens utilizando a fórmula baseada em logaritmos apresentada neste capítulo. "
      ],
      "metadata": {
        "id": "gG4r6HvRkxDu"
      }
    },
    {
      "cell_type": "code",
      "source": [
        "#classificador das mensagens com formula baseada em logaritimos\n",
        "def classificar_via_log(mensagem):\n",
        "  score_spam = p_spam\n",
        "  score_nao_spam = p_nao_spam\n",
        "\n",
        "  for palavra in vocab:\n",
        "    if palavra in atributos(mensagem):\n",
        "      score_spam += p_em_spam(palavra)\n",
        "      score_nao_spam += p_em_nao_spam(palavra)\n",
        "    else:\n",
        "      score_spam += 1 - p_em_spam(palavra)\n",
        "      score_nao_spam += 1 - p_em_nao_spam(palavra)\n",
        "\n",
        "    if score_spam > score_nao_spam:\n",
        "      return 'spam'\n",
        "    else:\n",
        "      return 'nao spam'\n",
        "\n",
        "msg1 = 'viagra com bom preço: entregamos em seu consultório'\n",
        "classificar_via_log(msg1)"
      ],
      "metadata": {
        "id": "Mfd3PLs3kpQm",
        "colab": {
          "base_uri": "https://localhost:8080/",
          "height": 35
        },
        "outputId": "d96b36d9-84c7-4ba1-d2ef-14d90230cd29"
      },
      "execution_count": null,
      "outputs": [
        {
          "output_type": "execute_result",
          "data": {
            "text/plain": [
              "'spam'"
            ],
            "application/vnd.google.colaboratory.intrinsic+json": {
              "type": "string"
            }
          },
          "metadata": {},
          "execution_count": 34
        }
      ]
    },
    {
      "cell_type": "markdown",
      "source": [
        "##Exercício 3 - Imagine que tenha sido dada a você a tarefa de classificar os resumos submetidos a uma conferência de linguística em duas classes:\n",
        "linguística teórica (LT) ou linguística aplicada (LA). A classificação\n",
        "deve levar em conta apenas as palavras-chave enviadas pelos autores\n",
        "dos resumos. Como treinamento, você tem a sua disposição os seguintes dados de anos anteriores, já previamente rotulados:\n",
        "1. sintagma, sentença, função (LT)\n",
        "2. sentido, ensino, gramática (LA)\n",
        "3. sentença, sujeito, sentido, sintagma (LT)\n",
        "4. ensino, gramática, sintagma (LA)\n",
        "5. sujeito, sentido, gramática, função (LA)\n",
        "\n",
        "Construa um classificador bayesiano ingênuo para essa tarefa e treine-o com o corpus acima. Utilize o processo de suavização, que vimos\n",
        "neste capítulo, no cômputo das probabilidades. A que classe -LT ou\n",
        "LA- seu classificador atribuiria o dado (D) abaixo?\n",
        "* (D) sentido, sentença, sujeito, gramática"
      ],
      "metadata": {
        "id": "Akrip1_Csqvk"
      }
    },
    {
      "cell_type": "code",
      "source": [
        "la = 0\n",
        "lt = 0\n",
        "em_la = defaultdict(int)\n",
        "em_lt = defaultdict(int)\n",
        "vocab = set()\n",
        "\n",
        "#extração de atributos\n",
        "def atributos(mensagem):\n",
        "  palavras = mensagem.split()\n",
        "  lixo = '123456789.,:;?!\"`()[]{}\\/|-#$%^&*'\n",
        "  quase_limpo = [x.strip(lixo).lower() for x in palavras]\n",
        "  palavras = [x for x in quase_limpo if x.isalpha() or '-' in x]\n",
        "  return set(palavras)\n",
        "\n",
        "try:\n",
        "  corpus_treino = open('/content/drive/MyDrive/Estudos do livro (Para conhecer Linguística Computacional)/treino_conferencia.txt', 'r')\n",
        "except:\n",
        "  from google.colab import drive \n",
        "  drive.mount('/content/drive')\n",
        "\n",
        "for dado in corpus_treino:\n",
        "  classe = dado[0]\n",
        "  texto = dado[2:]\n",
        "  palavras = atributos(texto)\n",
        "  vocab |= palavras\n",
        "  if classe == '1':\n",
        "    la += 1\n",
        "    for x in palavras:\n",
        "      em_la[x] += 1\n",
        "  elif classe == '0':\n",
        "    lt += 1\n",
        "    for x in palavras:\n",
        "      em_lt[x] += 1\n",
        "\n",
        "corpus_treino.close()\n",
        "\n",
        "#suavilização do classificador\n",
        "k = 1\n",
        "\n",
        "p_la = (la + 2 * k) / (la + lt + 4 * k)\n",
        "\n",
        "p_lt = (lt + 2 * k) / (la + lt + 4 * k)\n",
        "\n",
        "#probabilidades suavizadas\n",
        "def p_em_la(palavra):\n",
        "  return (em_la[palavra] + k) / (la + 2 * k)\n",
        "\n",
        "def p_em_lt(palavra):\n",
        "  return (em_lt[palavra] + k) / (lt + 2 * k)\n",
        "\n",
        "#classificador das mensagens\n",
        "def classificar(mensagem):\n",
        "  score_la = p_la\n",
        "  score_lt = p_lt\n",
        "\n",
        "  for palavra in vocab:\n",
        "    if palavra in atributos(mensagem):\n",
        "      score_la *= p_em_la(palavra)\n",
        "      score_lt *= p_em_lt(palavra)\n",
        "    else:\n",
        "      score_la *= 1 - p_em_la(palavra)\n",
        "      score_lt *= 1 - p_em_lt(palavra)\n",
        "\n",
        "    if score_la > score_lt:\n",
        "      return 'Linguística Aplicada'\n",
        "    else:\n",
        "      return 'Linguística Teórica'\n",
        "\n",
        "palavras_chave = 'sentido, sentença, sujeito, gramática'\n",
        "classificar(palavras_chave)"
      ],
      "metadata": {
        "id": "90EZ4jUms2Pa",
        "colab": {
          "base_uri": "https://localhost:8080/",
          "height": 35
        },
        "outputId": "98093a29-b359-4e75-fc7c-4d1da2a7cf3a"
      },
      "execution_count": null,
      "outputs": [
        {
          "output_type": "execute_result",
          "data": {
            "text/plain": [
              "'Linguística Aplicada'"
            ],
            "application/vnd.google.colaboratory.intrinsic+json": {
              "type": "string"
            }
          },
          "metadata": {},
          "execution_count": 33
        }
      ]
    }
  ]
}