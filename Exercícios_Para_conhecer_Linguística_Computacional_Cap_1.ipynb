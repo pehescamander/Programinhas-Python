{
  "nbformat": 4,
  "nbformat_minor": 0,
  "metadata": {
    "colab": {
      "provenance": [],
      "collapsed_sections": [],
      "authorship_tag": "ABX9TyM0FqLLajsMubMViVV2ynFK",
      "include_colab_link": true
    },
    "kernelspec": {
      "name": "python3",
      "display_name": "Python 3"
    },
    "language_info": {
      "name": "python"
    }
  },
  "cells": [
    {
      "cell_type": "markdown",
      "metadata": {
        "id": "view-in-github",
        "colab_type": "text"
      },
      "source": [
        "<a href=\"https://colab.research.google.com/github/pehescamander/Programinhas-Python/blob/main/Exerc%C3%ADcios_Para_conhecer_Lingu%C3%ADstica_Computacional_Cap_1.ipynb\" target=\"_parent\"><img src=\"https://colab.research.google.com/assets/colab-badge.svg\" alt=\"Open In Colab\"/></a>"
      ]
    },
    {
      "cell_type": "code",
      "execution_count": null,
      "metadata": {
        "id": "yv-Wzx-rSN3B",
        "colab": {
          "base_uri": "https://localhost:8080/",
          "height": 35
        },
        "outputId": "88614f38-22a8-4db9-8068-4be957562299"
      },
      "outputs": [
        {
          "output_type": "execute_result",
          "data": {
            "text/plain": [
              "'cba'"
            ],
            "application/vnd.google.colaboratory.intrinsic+json": {
              "type": "string"
            }
          },
          "metadata": {},
          "execution_count": 1
        }
      ],
      "source": [
        "#exercicio  1:\n",
        "\n",
        "def inversa(i): #define a função do tipo 'def' com  um item chamado de 'i' que pode ser aplicado a qualquer string\n",
        "  while i == i: #enquanto esse item não é ele mesmo ele deve retornar...\n",
        "    return i[::-1] #o item vai retornar ao contrario usando o método [::-1]\n",
        "\n",
        "#aplicando a função a string:\n",
        "inversa('abc')"
      ]
    },
    {
      "cell_type": "code",
      "source": [
        "#exercicio  1:\n",
        "#mais seguro de não dar loop eterno\n",
        "def invert(i):\n",
        "  while len(i) != range(len(i)):\n",
        "      return i[::-1]\n",
        "\n",
        "invert('abc')"
      ],
      "metadata": {
        "colab": {
          "base_uri": "https://localhost:8080/",
          "height": 35
        },
        "id": "sOKd490notZY",
        "outputId": "69e559c7-c6b7-459d-cdf2-d271eeb1c167"
      },
      "execution_count": null,
      "outputs": [
        {
          "output_type": "execute_result",
          "data": {
            "text/plain": [
              "'cba'"
            ],
            "application/vnd.google.colaboratory.intrinsic+json": {
              "type": "string"
            }
          },
          "metadata": {},
          "execution_count": 9
        }
      ]
    },
    {
      "cell_type": "code",
      "source": [
        "#exercicio  2:\n",
        "def palavras(texto):\n",
        "  contagem = texto.split(' ') #tranforma a string em lista separando pelos espaços ' '\n",
        "  return len(contagem) #conta as palavras usnado o len() e imprime o resultado\n",
        "\n",
        "palavras('O rato roeu a roupa do rei de Roma')\n",
        "\n",
        "#Por algum motivo usando função está dando erro está dando erro no colab, mas funciona tranquilamente no python.\n",
        "#Já parou de dar erro hoje 29/07/22!! =)"
      ],
      "metadata": {
        "colab": {
          "base_uri": "https://localhost:8080/"
        },
        "id": "a3G4O-N-YktH",
        "outputId": "e78e34e2-4e1d-4cc4-8d28-5878c7f971b6"
      },
      "execution_count": null,
      "outputs": [
        {
          "output_type": "execute_result",
          "data": {
            "text/plain": [
              "9"
            ]
          },
          "metadata": {},
          "execution_count": 10
        }
      ]
    },
    {
      "cell_type": "code",
      "source": [
        "#exercicio 3:\n",
        "import re\n",
        "\n",
        "def iniciais(x):\n",
        "    x = x.upper() #transforma tudo em maiusculo\n",
        "    x = re.findall(r'\\b\\w', x)\n",
        "    return x\n",
        "\n",
        "iniciais('O rato roeu a roupa do rei de Roma')\n",
        "\n",
        "#Features do RegEx (re): https://www.w3schools.com/python/python_regex.asp"
      ],
      "metadata": {
        "id": "Yikz2iOIYaVN",
        "colab": {
          "base_uri": "https://localhost:8080/"
        },
        "outputId": "b29b45ba-36af-4045-b785-a35213839c16"
      },
      "execution_count": null,
      "outputs": [
        {
          "output_type": "execute_result",
          "data": {
            "text/plain": [
              "['O', 'R', 'R', 'A', 'R', 'D', 'R', 'D', 'R']"
            ]
          },
          "metadata": {},
          "execution_count": 5
        }
      ]
    },
    {
      "cell_type": "code",
      "source": [
        "#exercicio 4:\n",
        "\n",
        "import re\n",
        "\n",
        "def alfabeto(y):\n",
        "  y = y.upper()\n",
        "  y = re.findall(r'\\w', y)\n",
        "  y = set(y) #mais sobre o comando set(): https://www.w3schools.com/python/python_sets.asp\n",
        "  return y\n",
        "\n",
        "alfabeto('O rato roeu a roupa do rei de Roma')"
      ],
      "metadata": {
        "colab": {
          "base_uri": "https://localhost:8080/"
        },
        "id": "IUmxX_a5eJz7",
        "outputId": "923a9c43-06cf-41db-d2eb-066f7a5e7e31"
      },
      "execution_count": null,
      "outputs": [
        {
          "output_type": "execute_result",
          "data": {
            "text/plain": [
              "{'A', 'D', 'E', 'I', 'M', 'O', 'P', 'R', 'T', 'U'}"
            ]
          },
          "metadata": {},
          "execution_count": 11
        }
      ]
    }
  ]
}