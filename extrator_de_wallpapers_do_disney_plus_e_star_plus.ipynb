{
  "nbformat": 4,
  "nbformat_minor": 0,
  "metadata": {
    "colab": {
      "provenance": [],
      "collapsed_sections": [],
      "authorship_tag": "ABX9TyPt0axz+3ibceLbpBLr9hQk",
      "include_colab_link": true
    },
    "kernelspec": {
      "name": "python3",
      "display_name": "Python 3"
    },
    "language_info": {
      "name": "python"
    }
  },
  "cells": [
    {
      "cell_type": "markdown",
      "metadata": {
        "id": "view-in-github",
        "colab_type": "text"
      },
      "source": [
        "<a href=\"https://colab.research.google.com/github/pehescamander/Programinhas-Python/blob/main/extrator_de_wallpapers_do_disney_plus_e_star_plus.ipynb\" target=\"_parent\"><img src=\"https://colab.research.google.com/assets/colab-badge.svg\" alt=\"Open In Colab\"/></a>"
      ]
    },
    {
      "cell_type": "markdown",
      "source": [
        "#Extrator de Wallpapers Disney+ e Star+\n",
        "**Instruções de uso pelo Google Colab**\n",
        "- Logado em uma conta **Google** clique em \"executar\" no botão **play** do lado esquerdo do código.\n",
        "\n",
        "- Clique em \"executar\" (botão **play**) nos 3 códigos abaixo.\n",
        "\n",
        "- Tudo será salvo para download no icone de \"arquivos\" (pastinha) do lado esquerdo da página.\n",
        "\n",
        "> @pehescamander\n",
        "\n"
      ],
      "metadata": {
        "id": "fvyg53EGG781"
      }
    },
    {
      "cell_type": "code",
      "execution_count": null,
      "metadata": {
        "id": "W4XYsqxA67Ed"
      },
      "outputs": [],
      "source": [
        "#Lendo seu link\n",
        "import urllib.request\n",
        "print('''Criado  por: @pehescamander\n",
        "Esse programa baixa as imagens do Disney+ e Star+\\n''')\n",
        "url = input('Digite o link do título do Disney+ ou Star+ que deseja baixar as imagens: ')\n",
        "print('\\n...\\n')\n",
        "f = urllib.request.urlopen(url)\n",
        "f = f.read().decode('utf-8')"
      ]
    },
    {
      "cell_type": "code",
      "source": [
        "#Separando os links somente das imagens e criando arquivo com eles em \".txt\"\n",
        "import re\n",
        "l_clean = re.sub('\"','\\n',f)\n",
        "l_list = re.findall(r'https.*variant.*', l_clean)\n",
        "l_txt = '\\n'.join(l_list)\n",
        "with open('link_das_imagens.txt', 'w', encoding='utf-8') as f:\n",
        "  f.writelines(l_txt)"
      ],
      "metadata": {
        "id": "SIwBXENAI-ov"
      },
      "execution_count": null,
      "outputs": []
    },
    {
      "cell_type": "code",
      "source": [
        "#Lendo os links com as imagens e baixando todas em \".png\" na pasta\n",
        "from os import linesep\n",
        "import requests\n",
        "import shutil\n",
        "for line in range(len(l_list)):\n",
        "  res = requests.get(l_list[line], stream = True)\n",
        "  if res.status_code == 200:\n",
        "    with open(str([line])+'.png', 'wb') as f:\n",
        "      shutil.copyfileobj(res.raw, f)\n",
        "      numbers = str([line])+' de '+str(len(l_list))\n",
        "      print('Download feito com sucesso: ',numbers)\n",
        "  else:\n",
        "    print('A imagem não pôde ser recuperada')"
      ],
      "metadata": {
        "id": "GhJ4N05DOW3H"
      },
      "execution_count": null,
      "outputs": []
    }
  ]
}